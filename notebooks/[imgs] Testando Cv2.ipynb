{
 "cells": [
  {
   "cell_type": "code",
   "execution_count": 1,
   "id": "616fa2d6",
   "metadata": {},
   "outputs": [],
   "source": [
    "%matplotlib inline\n",
    "import os\n",
    "\n",
    "import cv2\n",
    "import numpy as np\n",
    "from matplotlib import pyplot as plt"
   ]
  },
  {
   "cell_type": "code",
   "execution_count": 9,
   "id": "a34012aa",
   "metadata": {},
   "outputs": [],
   "source": [
    "img = cv2.imread('../dataset/teste.png')\n",
    "b,g,r = cv2.split(img)\n",
    "rgb_img = cv2.merge([r,g,b])"
   ]
  },
  {
   "cell_type": "code",
   "execution_count": 10,
   "id": "f6f3a9c5",
   "metadata": {},
   "outputs": [
    {
     "data": {
      "text/plain": [
       "(64, 64, 3)"
      ]
     },
     "execution_count": 10,
     "metadata": {},
     "output_type": "execute_result"
    }
   ],
   "source": [
    "rgb_img.shape"
   ]
  },
  {
   "cell_type": "code",
   "execution_count": 11,
   "id": "807c9175",
   "metadata": {},
   "outputs": [
    {
     "data": {
      "text/plain": [
       "<matplotlib.image.AxesImage at 0x7fc34ee20670>"
      ]
     },
     "execution_count": 11,
     "metadata": {},
     "output_type": "execute_result"
    },
    {
     "data": {
      "image/png": "[encoded data removed]",
      "text/plain": [
       "<Figure size 432x288 with 1 Axes>"
      ]
     },
     "metadata": {
      "needs_background": "light"
     },
     "output_type": "display_data"
    }
   ],
   "source": [
    "plt.imshow(rgb_img)"
   ]
  },
  {
   "cell_type": "code",
   "execution_count": 12,
   "id": "b1da6416",
   "metadata": {},
   "outputs": [
    {
     "data": {
      "text/plain": [
       "array([[[158, 178, 203],\n",
       "        [161, 181, 208],\n",
       "        [155, 175, 202],\n",
       "        ...,\n",
       "        [140, 172, 195],\n",
       "        [134, 164, 192],\n",
       "        [125, 151, 184]],\n",
       "\n",
       "       [[162, 182, 207],\n",
       "        [155, 175, 200],\n",
       "        [154, 174, 201],\n",
       "        ...,\n",
       "        [133, 168, 190],\n",
       "        [109, 140, 168],\n",
       "        [ 86, 115, 145]],\n",
       "\n",
       "       [[159, 179, 204],\n",
       "        [158, 178, 203],\n",
       "        [145, 165, 192],\n",
       "        ...,\n",
       "        [126, 160, 185],\n",
       "        [ 85, 116, 144],\n",
       "        [ 80, 109, 139]],\n",
       "\n",
       "       ...,\n",
       "\n",
       "       [[145, 167, 206],\n",
       "        [142, 162, 199],\n",
       "        [141, 159, 197],\n",
       "        ...,\n",
       "        [113, 110, 157],\n",
       "        [133, 130, 177],\n",
       "        [114, 114, 164]],\n",
       "\n",
       "       [[137, 159, 198],\n",
       "        [133, 153, 190],\n",
       "        [139, 157, 195],\n",
       "        ...,\n",
       "        [127, 121, 169],\n",
       "        [137, 134, 181],\n",
       "        [112, 112, 162]],\n",
       "\n",
       "       [[126, 145, 185],\n",
       "        [128, 146, 184],\n",
       "        [133, 151, 189],\n",
       "        ...,\n",
       "        [138, 132, 176],\n",
       "        [132, 129, 174],\n",
       "        [114, 115, 163]]], dtype=uint8)"
      ]
     },
     "execution_count": 12,
     "metadata": {},
     "output_type": "execute_result"
    }
   ],
   "source": [
    "rgb_img"
   ]
  },
  {
   "cell_type": "code",
   "execution_count": null,
   "id": "ffa2d56c",
   "metadata": {},
   "outputs": [],
   "source": []
  }
 ],
 "metadata": {
  "kernelspec": {
   "display_name": "Python 3 (ipykernel)",
   "language": "python",
   "name": "python3"
  },
  "language_info": {
   "codemirror_mode": {
    "name": "ipython",
    "version": 3
   },
   "file_extension": ".py",
   "mimetype": "text/x-python",
   "name": "python",
   "nbconvert_exporter": "python",
   "pygments_lexer": "ipython3",
   "version": "3.9.7"
  }
 },
 "nbformat": 4,
 "nbformat_minor": 5
}
