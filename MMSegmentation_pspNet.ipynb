{
 "cells": [
  {
   "cell_type": "code",
   "execution_count": 1,
   "id": "83acaa9d",
   "metadata": {
    "colab": {
     "base_uri": "https://localhost:8080/"
    },
    "id": "83acaa9d",
    "outputId": "4ac72754-a735-489b-9590-6611ce7de74e"
   },
   "outputs": [
    {
     "name": "stdout",
     "output_type": "stream",
     "text": [
      "Looking in links: https://download.pytorch.org/whl/torch_stable.html\n",
      "Requirement already satisfied: torch==1.8.1+cu101 in /home/neto/anaconda3/envs/torch_gpu/lib/python3.9/site-packages (1.8.1+cu101)\n",
      "Requirement already satisfied: torchvision==0.9.1+cu101 in /home/neto/anaconda3/envs/torch_gpu/lib/python3.9/site-packages (0.9.1+cu101)\n",
      "Requirement already satisfied: numpy in /home/neto/anaconda3/envs/torch_gpu/lib/python3.9/site-packages (from torch==1.8.1+cu101) (1.21.4)\n",
      "Requirement already satisfied: typing-extensions in /home/neto/anaconda3/envs/torch_gpu/lib/python3.9/site-packages (from torch==1.8.1+cu101) (4.0.1)\n",
      "Requirement already satisfied: pillow>=4.1.1 in /home/neto/anaconda3/envs/torch_gpu/lib/python3.9/site-packages (from torchvision==0.9.1+cu101) (8.4.0)\n",
      "Looking in links: https://download.openmmlab.com/mmcv/dist/cu101/torch1.8.0/index.html\n",
      "Requirement already satisfied: mmcv-full in /home/neto/anaconda3/envs/torch_gpu/lib/python3.9/site-packages (1.4.1)\n",
      "Requirement already satisfied: packaging in /home/neto/anaconda3/envs/torch_gpu/lib/python3.9/site-packages (from mmcv-full) (21.3)\n",
      "Requirement already satisfied: yapf in /home/neto/anaconda3/envs/torch_gpu/lib/python3.9/site-packages (from mmcv-full) (0.31.0)\n",
      "Requirement already satisfied: pyyaml in /home/neto/anaconda3/envs/torch_gpu/lib/python3.9/site-packages (from mmcv-full) (6.0)\n",
      "Requirement already satisfied: opencv-python>=3 in /home/neto/anaconda3/envs/torch_gpu/lib/python3.9/site-packages (from mmcv-full) (4.5.4.60)\n",
      "Requirement already satisfied: addict in /home/neto/anaconda3/envs/torch_gpu/lib/python3.9/site-packages (from mmcv-full) (2.4.0)\n",
      "Requirement already satisfied: Pillow in /home/neto/anaconda3/envs/torch_gpu/lib/python3.9/site-packages (from mmcv-full) (8.4.0)\n",
      "Requirement already satisfied: numpy in /home/neto/anaconda3/envs/torch_gpu/lib/python3.9/site-packages (from mmcv-full) (1.21.4)\n",
      "Requirement already satisfied: pyparsing!=3.0.5,>=2.0.2 in /home/neto/anaconda3/envs/torch_gpu/lib/python3.9/site-packages (from packaging->mmcv-full) (3.0.4)\n"
     ]
    }
   ],
   "source": [
    "# Install PyTorch\n",
    "!pip install -U torch==1.8.1+cu101 torchvision==0.9.1+cu101 -f https://download.pytorch.org/whl/torch_stable.html\n",
    "# Install MMCV\n",
    "!pip install mmcv-full -f https://download.openmmlab.com/mmcv/dist/cu101/torch1.8.0/index.html"
   ]
  },
  {
   "cell_type": "code",
   "execution_count": 2,
   "id": "01760a13",
   "metadata": {},
   "outputs": [],
   "source": [
    "!rm -rf tcc\n",
    "!git clone https://github.com/matheussn/tcc.git\n",
    "%cd tcc"
   ]
  },
  {
   "cell_type": "code",
   "execution_count": 3,
   "id": "df0f9312",
   "metadata": {
    "colab": {
     "base_uri": "https://localhost:8080/"
    },
    "id": "df0f9312",
    "outputId": "78eda201-41df-49e0-a8c8-1436845d50cb"
   },
   "outputs": [
    {
     "name": "stdout",
     "output_type": "stream",
     "text": [
      "Cloning into 'mmsegmentation'...\n",
      "remote: Enumerating objects: 5894, done.\u001b[K\n",
      "remote: Counting objects: 100% (400/400), done.\u001b[K\n",
      "remote: Compressing objects: 100% (284/284), done.\u001b[K\n",
      "remote: Total 5894 (delta 193), reused 200 (delta 111), pack-reused 5494\u001b[K\n",
      "Receiving objects: 100% (5894/5894), 12.52 MiB | 10.59 MiB/s, done.\n",
      "Resolving deltas: 100% (4262/4262), done.\n",
      "Note: switching to '991b0512b9f4835275957e4c4896b5f4c4696eac'.\n",
      "\n",
      "You are in 'detached HEAD' state. You can look around, make experimental\n",
      "changes and commit them, and you can discard any commits you make in this\n",
      "state without impacting any branches by switching back to a branch.\n",
      "\n",
      "If you want to create a new branch to retain commits you create, you may\n",
      "do so (now or later) by using -c with the switch command. Example:\n",
      "\n",
      "  git switch -c <new-branch-name>\n",
      "\n",
      "Or undo this operation with:\n",
      "\n",
      "  git switch -\n",
      "\n",
      "Turn off this advice by setting config variable advice.detachedHead to false\n",
      "\n",
      "/home/neto/projects/tcc/mmsegmentation\n",
      "Obtaining file:///home/neto/projects/tcc/mmsegmentation\n",
      "Requirement already satisfied: matplotlib in /home/neto/anaconda3/envs/torch_gpu/lib/python3.9/site-packages (from mmsegmentation==0.20.2) (3.5.1)\n",
      "Requirement already satisfied: numpy in /home/neto/anaconda3/envs/torch_gpu/lib/python3.9/site-packages (from mmsegmentation==0.20.2) (1.21.4)\n",
      "Requirement already satisfied: packaging in /home/neto/anaconda3/envs/torch_gpu/lib/python3.9/site-packages (from mmsegmentation==0.20.2) (21.3)\n",
      "Requirement already satisfied: prettytable in /home/neto/anaconda3/envs/torch_gpu/lib/python3.9/site-packages (from mmsegmentation==0.20.2) (2.4.0)\n",
      "Requirement already satisfied: fonttools>=4.22.0 in /home/neto/anaconda3/envs/torch_gpu/lib/python3.9/site-packages (from matplotlib->mmsegmentation==0.20.2) (4.28.5)\n",
      "Requirement already satisfied: pillow>=6.2.0 in /home/neto/anaconda3/envs/torch_gpu/lib/python3.9/site-packages (from matplotlib->mmsegmentation==0.20.2) (8.4.0)\n",
      "Requirement already satisfied: kiwisolver>=1.0.1 in /home/neto/anaconda3/envs/torch_gpu/lib/python3.9/site-packages (from matplotlib->mmsegmentation==0.20.2) (1.3.2)\n",
      "Requirement already satisfied: pyparsing>=2.2.1 in /home/neto/anaconda3/envs/torch_gpu/lib/python3.9/site-packages (from matplotlib->mmsegmentation==0.20.2) (3.0.4)\n",
      "Requirement already satisfied: cycler>=0.10 in /home/neto/anaconda3/envs/torch_gpu/lib/python3.9/site-packages (from matplotlib->mmsegmentation==0.20.2) (0.11.0)\n",
      "Requirement already satisfied: python-dateutil>=2.7 in /home/neto/anaconda3/envs/torch_gpu/lib/python3.9/site-packages (from matplotlib->mmsegmentation==0.20.2) (2.8.2)\n",
      "Requirement already satisfied: six>=1.5 in /home/neto/anaconda3/envs/torch_gpu/lib/python3.9/site-packages (from python-dateutil>=2.7->matplotlib->mmsegmentation==0.20.2) (1.16.0)\n",
      "Requirement already satisfied: wcwidth in /home/neto/anaconda3/envs/torch_gpu/lib/python3.9/site-packages (from prettytable->mmsegmentation==0.20.2) (0.2.5)\n",
      "Installing collected packages: mmsegmentation\n",
      "  Running setup.py develop for mmsegmentation\n",
      "Successfully installed mmsegmentation-0.20.2\n"
     ]
    }
   ],
   "source": [
    "!rm -rf mmsegmentation\n",
    "!git clone -b v0.20.2 https://github.com/open-mmlab/mmsegmentation.git \n",
    "%cd mmsegmentation\n",
    "!pip install -e ."
   ]
  },
  {
   "cell_type": "code",
   "execution_count": 4,
   "id": "52d007b4",
   "metadata": {
    "colab": {
     "base_uri": "https://localhost:8080/"
    },
    "id": "52d007b4",
    "outputId": "b0eb88aa-b858-449b-d02d-63e9916a3a6b"
   },
   "outputs": [
    {
     "name": "stdout",
     "output_type": "stream",
     "text": [
      "1.8.1+cu101 True\n",
      "0.20.2\n"
     ]
    }
   ],
   "source": [
    "# Check Pytorch installation\n",
    "import torch, torchvision\n",
    "print(torch.__version__, torch.cuda.is_available())\n",
    "\n",
    "# Check MMSegmentation installation\n",
    "import mmseg\n",
    "from mmseg.datasets import build_dataset\n",
    "from mmseg.datasets.builder import DATASETS\n",
    "from mmseg.datasets.custom import CustomDataset\n",
    "from mmseg.apis import set_random_seed, train_segmentor\n",
    "from mmseg.models import build_segmentor\n",
    "print(mmseg.__version__)\n",
    "\n",
    "import mmcv\n",
    "from mmcv import Config\n",
    "\n",
    "import os.path as osp\n",
    "import numpy as np\n",
    "from PIL import Image\n",
    "import matplotlib.patches as mpatches\n",
    "import matplotlib.pyplot as plt"
   ]
  },
  {
   "cell_type": "code",
   "execution_count": 5,
   "id": "9059039b",
   "metadata": {
    "colab": {
     "base_uri": "https://localhost:8080/"
    },
    "id": "9059039b",
    "outputId": "e0f5b37b-ee71-47c1-a63e-b1cfea658cb8"
   },
   "outputs": [
    {
     "name": "stdout",
     "output_type": "stream",
     "text": [
      "Archive:  ../segmentation.zip\n",
      "   creating: segmentation/\n",
      "   creating: segmentation/annotations/\n",
      "  inflating: segmentation/annotations/image020-roi1.tif  \n",
      "  inflating: segmentation/annotations/image008-roi1.tif  \n",
      "  inflating: segmentation/annotations/image032-roi1.tif  \n",
      "  inflating: segmentation/annotations/image019-roi2.tif  \n",
      "  inflating: segmentation/annotations/image019-roi5.tif  \n",
      "  inflating: segmentation/annotations/image058-roi5.tif  \n",
      "  inflating: segmentation/annotations/image038-roi4.tif  \n",
      "  inflating: segmentation/annotations/image058-roi1.tif  \n",
      "  inflating: segmentation/annotations/image021-roi3.tif  \n",
      "  inflating: segmentation/annotations/image006-roi2.tif  \n",
      "  inflating: segmentation/annotations/image021-roi6.tif  \n",
      "  inflating: segmentation/annotations/image038-roi1.tif  \n",
      "  inflating: segmentation/annotations/image003-2-roi3.tif  \n",
      "  inflating: segmentation/annotations/image038-roi3.tif  \n",
      "  inflating: segmentation/annotations/image039-roi3.tif  \n",
      "  inflating: segmentation/annotations/image017-roi1.tif  \n",
      "  inflating: segmentation/annotations/image004-roi2.tif  \n",
      "  inflating: segmentation/annotations/image008-roi2.tif  \n",
      "  inflating: segmentation/annotations/image018-roi3.tif  \n",
      "  inflating: segmentation/annotations/image006-roi3.tif  \n",
      "  inflating: segmentation/annotations/image038-roi2.tif  \n",
      "  inflating: segmentation/annotations/image029-roi1.tif  \n",
      "  inflating: segmentation/annotations/image029-roi4.tif  \n",
      "  inflating: segmentation/annotations/image018-roi8.tif  \n",
      "  inflating: segmentation/annotations/image018-roi4.tif  \n",
      "  inflating: segmentation/annotations/image008-roi3.tif  \n",
      "  inflating: segmentation/annotations/image037-roi6.tif  \n",
      "  inflating: segmentation/annotations/image032-roi3.tif  \n",
      "  inflating: segmentation/annotations/image033-roi2.tif  \n",
      "  inflating: segmentation/annotations/image058-roi8.tif  \n",
      "  inflating: segmentation/annotations/image022-roi1.tif  \n",
      "  inflating: segmentation/annotations/image021-roi5.tif  \n",
      "  inflating: segmentation/annotations/image018-roi6.tif  \n",
      "  inflating: segmentation/annotations/image019-roi6.tif  \n",
      "  inflating: segmentation/annotations/image023-roi1.tif  \n",
      "  inflating: segmentation/annotations/image023-roi4.tif  \n",
      "  inflating: segmentation/annotations/image032-roi2.tif  \n",
      "  inflating: segmentation/annotations/image017-roi2.tif  \n",
      "  inflating: segmentation/annotations/image043-roi1.tif  \n",
      "  inflating: segmentation/annotations/image043-roi2.tif  \n",
      "  inflating: segmentation/annotations/image003-2-roi2.tif  \n",
      "  inflating: segmentation/annotations/image024-roi2.tif  \n",
      "  inflating: segmentation/annotations/image058-roi3.tif  \n",
      "  inflating: segmentation/annotations/image006-2-roi3.tif  \n",
      "  inflating: segmentation/annotations/image020-roi4.tif  \n",
      "  inflating: segmentation/annotations/image005-roi1.tif  \n",
      "  inflating: segmentation/annotations/image006-2-roi4.tif  \n",
      "  inflating: segmentation/annotations/image005-2-roi4.tif  \n",
      "  inflating: segmentation/annotations/image037-roi5.tif  \n",
      "  inflating: segmentation/annotations/image050-roi5.tif  \n",
      "  inflating: segmentation/annotations/image061-roi1.tif  \n",
      "  inflating: segmentation/annotations/image050-roi2.tif  \n",
      "  inflating: segmentation/annotations/image004-roi5.tif  \n",
      "  inflating: segmentation/annotations/image020-roi2.tif  \n",
      "  inflating: segmentation/annotations/image050-roi3.tif  \n",
      "  inflating: segmentation/annotations/image005-2-roi2.tif  \n",
      "  inflating: segmentation/annotations/image023-roi2.tif  \n",
      "  inflating: segmentation/annotations/image032-roi4.tif  \n",
      "  inflating: segmentation/annotations/image003-2-roi4.tif  \n",
      "  inflating: segmentation/annotations/image005-2-roi3.tif  \n",
      "  inflating: segmentation/annotations/image037-roi7.tif  \n",
      "  inflating: segmentation/annotations/image019-roi1.tif  \n",
      "  inflating: segmentation/annotations/image020-roi3.tif  \n",
      "  inflating: segmentation/annotations/image006-roi1.tif  \n",
      "  inflating: segmentation/annotations/image005-2-roi1.tif  \n",
      "  inflating: segmentation/annotations/image038-roi6.tif  \n",
      "  inflating: segmentation/annotations/image058-roi4.tif  \n",
      "  inflating: segmentation/annotations/image018-roi2.tif  \n",
      "  inflating: segmentation/annotations/image061-roi4.tif  \n",
      "  inflating: segmentation/annotations/image024-roi1.tif  \n",
      "  inflating: segmentation/annotations/image039-roi1.tif  \n",
      "  inflating: segmentation/annotations/image037-roi4.tif  \n",
      "  inflating: segmentation/annotations/image061-roi3.tif  \n",
      "  inflating: segmentation/annotations/image058-roi7.tif  \n",
      "  inflating: segmentation/annotations/image020-roi5.tif  \n",
      "  inflating: segmentation/annotations/image061-roi2.tif  \n",
      "  inflating: segmentation/annotations/image061-roi5.tif  \n",
      "  inflating: segmentation/annotations/image050-roi4.tif  \n",
      "  inflating: segmentation/annotations/image039-roi2.tif  \n",
      "  inflating: segmentation/annotations/image019-roi4.tif  \n",
      "  inflating: segmentation/annotations/image006-2-roi1.tif  \n",
      "  inflating: segmentation/annotations/image018-roi5.tif  \n",
      "  inflating: segmentation/annotations/image062-roi2.tif  \n",
      "  inflating: segmentation/annotations/image024-roi6.tif  \n",
      "  inflating: segmentation/annotations/image024-roi4.tif  \n",
      "  inflating: segmentation/annotations/image021-roi1.tif  \n",
      "  inflating: segmentation/annotations/image005-roi3.tif  \n",
      "  inflating: segmentation/annotations/image050-roi1.tif  \n",
      "  inflating: segmentation/annotations/image043-roi4.tif  \n",
      "  inflating: segmentation/annotations/image006-roi5.tif  \n",
      "  inflating: segmentation/annotations/image003-2-roi1.tif  \n",
      "  inflating: segmentation/annotations/image008-roi4.tif  \n",
      "  inflating: segmentation/annotations/image017-roi3.tif  \n",
      "  inflating: segmentation/annotations/image038-roi5.tif  \n",
      "  inflating: segmentation/annotations/image005-roi2.tif  \n",
      "  inflating: segmentation/annotations/image004-roi3.tif  \n",
      "  inflating: segmentation/annotations/image019-roi3.tif  \n",
      "  inflating: segmentation/annotations/image021-roi4.tif  \n",
      "  inflating: segmentation/annotations/image033-roi1.tif  \n",
      "  inflating: segmentation/annotations/image024-roi3.tif  \n",
      "  inflating: segmentation/annotations/image006-2-roi2.tif  \n",
      "  inflating: segmentation/annotations/image034-roi2.tif  \n",
      "  inflating: segmentation/annotations/image005-roi4.tif  \n",
      "  inflating: segmentation/annotations/image034-roi1.tif  \n",
      "  inflating: segmentation/annotations/image058-roi2.tif  \n",
      "  inflating: segmentation/annotations/image037-roi3.tif  \n",
      "  inflating: segmentation/annotations/image021-roi2.tif  \n",
      "  inflating: segmentation/annotations/image004-roi4.tif  \n",
      "  inflating: segmentation/annotations/image043-roi3.tif  \n",
      "  inflating: segmentation/annotations/image023-roi3.tif  \n",
      "  inflating: segmentation/annotations/image004-roi1.tif  \n",
      "  inflating: segmentation/annotations/image003-2-roi5.tif  \n",
      "  inflating: segmentation/annotations/image062-roi1.tif  \n",
      "  inflating: segmentation/annotations/image058-roi6.tif  \n",
      "  inflating: segmentation/annotations/image024-roi5.tif  \n",
      "  inflating: segmentation/annotations/image037-roi2.tif  \n",
      "  inflating: segmentation/annotations/image029-roi2.tif  \n",
      "  inflating: segmentation/annotations/image018-roi7.tif  \n",
      "  inflating: segmentation/annotations/image006-roi4.tif  \n",
      "  inflating: segmentation/annotations/image029-roi3.tif  \n",
      "   creating: segmentation/images/\n",
      "  inflating: segmentation/images/image005-roi4.jpg  \n",
      "  inflating: segmentation/images/image021-roi4.jpg  \n",
      "  inflating: segmentation/images/image021-roi5.jpg  \n",
      "  inflating: segmentation/images/image006-2-roi3.jpg  \n",
      "  inflating: segmentation/images/image058-roi4.jpg  \n",
      "  inflating: segmentation/images/image005-2-roi3.jpg  \n",
      "  inflating: segmentation/images/image006-roi5.jpg  \n",
      "  inflating: segmentation/images/image058-roi5.jpg  \n",
      "  inflating: segmentation/images/image032-roi1.jpg  \n",
      "  inflating: segmentation/images/image024-roi4.jpg  \n",
      "  inflating: segmentation/images/image058-roi7.jpg  \n",
      "  inflating: segmentation/images/image005-roi3.jpg  \n",
      "  inflating: segmentation/images/image023-roi3.jpg  \n",
      "  inflating: segmentation/images/image062-roi2.jpg  \n",
      "  inflating: segmentation/images/image020-roi3.jpg  \n",
      "  inflating: segmentation/images/image004-roi1.jpg  \n",
      "  inflating: segmentation/images/image022-roi1.jpg  \n",
      "  inflating: segmentation/images/image020-roi1.jpg  \n",
      "  inflating: segmentation/images/image018-roi2.jpg  \n",
      "  inflating: segmentation/images/image019-roi5.jpg  \n",
      "  inflating: segmentation/images/image039-roi3.jpg  \n",
      "  inflating: segmentation/images/image020-roi5.jpg  \n",
      "  inflating: segmentation/images/image033-roi2.jpg  \n",
      "  inflating: segmentation/images/image039-roi1.jpg  \n",
      "  inflating: segmentation/images/image006-roi1.jpg  \n",
      "  inflating: segmentation/images/image021-roi1.jpg  \n",
      "  inflating: segmentation/images/image029-roi4.jpg  \n",
      "  inflating: segmentation/images/image021-roi2.jpg  \n",
      "  inflating: segmentation/images/image058-roi2.jpg  \n",
      "  inflating: segmentation/images/image017-roi3.jpg  \n",
      "  inflating: segmentation/images/image029-roi2.jpg  \n",
      "  inflating: segmentation/images/image005-2-roi2.jpg  \n",
      "  inflating: segmentation/images/image061-roi3.jpg  \n",
      "  inflating: segmentation/images/image017-roi2.jpg  \n",
      "  inflating: segmentation/images/image019-roi3.jpg  \n",
      "  inflating: segmentation/images/image006-roi3.jpg  \n",
      "  inflating: segmentation/images/image018-roi3.jpg  \n",
      "  inflating: segmentation/images/image021-roi3.jpg  \n",
      "  inflating: segmentation/images/image018-roi4.jpg  \n",
      "  inflating: segmentation/images/image006-roi2.jpg  \n",
      "  inflating: segmentation/images/image034-roi2.jpg  \n",
      "  inflating: segmentation/images/image019-roi6.jpg  \n",
      "  inflating: segmentation/images/image008-roi4.jpg  \n",
      "  inflating: segmentation/images/image004-roi2.jpg  \n",
      "  inflating: segmentation/images/image043-roi1.jpg  \n",
      "  inflating: segmentation/images/image005-2-roi1.jpg  \n",
      "  inflating: segmentation/images/image004-roi5.jpg  \n",
      "  inflating: segmentation/images/image024-roi1.jpg  \n",
      "  inflating: segmentation/images/image021-roi6.jpg  \n",
      "  inflating: segmentation/images/image018-roi6.jpg  \n",
      "  inflating: segmentation/images/image033-roi1.jpg  \n",
      "  inflating: segmentation/images/image037-roi6.jpg  \n",
      "  inflating: segmentation/images/image029-roi3.jpg  \n",
      "  inflating: segmentation/images/image006-2-roi4.jpg  \n",
      "  inflating: segmentation/images/image024-roi6.jpg  \n",
      "  inflating: segmentation/images/image029-roi1.jpg  \n",
      "  inflating: segmentation/images/image061-roi1.jpg  \n",
      "  inflating: segmentation/images/image038-roi5.jpg  \n",
      "  inflating: segmentation/images/image017-roi1.jpg  \n",
      "  inflating: segmentation/images/image032-roi3.jpg  \n",
      "  inflating: segmentation/images/image037-roi3.jpg  \n",
      "  inflating: segmentation/images/image038-roi2.jpg  \n",
      "  inflating: segmentation/images/image018-roi5.jpg  \n",
      "  inflating: segmentation/images/image050-roi3.jpg  \n",
      "  inflating: segmentation/images/image058-roi1.jpg  \n",
      "  inflating: segmentation/images/image006-2-roi1.jpg  \n",
      "  inflating: segmentation/images/image006-2-roi2.jpg  \n",
      "  inflating: segmentation/images/image062-roi1.jpg  \n",
      "  inflating: segmentation/images/image020-roi2.jpg  \n",
      "  inflating: segmentation/images/image018-roi7.jpg  \n",
      "  inflating: segmentation/images/image018-roi8.jpg  \n",
      "  inflating: segmentation/images/image061-roi2.jpg  \n",
      "  inflating: segmentation/images/image003-2-roi4.jpg  \n",
      "  inflating: segmentation/images/image050-roi5.jpg  \n",
      "  inflating: segmentation/images/image024-roi3.jpg  \n",
      "  inflating: segmentation/images/image023-roi2.jpg  \n",
      "  inflating: segmentation/images/image043-roi3.jpg  \n",
      "  inflating: segmentation/images/image058-roi3.jpg  \n",
      "  inflating: segmentation/images/image037-roi7.jpg  \n",
      "  inflating: segmentation/images/image008-roi2.jpg  \n",
      "  inflating: segmentation/images/image032-roi2.jpg  \n",
      "  inflating: segmentation/images/image005-roi1.jpg  \n",
      "  inflating: segmentation/images/image038-roi6.jpg  \n",
      "  inflating: segmentation/images/image003-2-roi5.jpg  \n",
      "  inflating: segmentation/images/image023-roi1.jpg  \n",
      "  inflating: segmentation/images/image020-roi4.jpg  \n",
      "  inflating: segmentation/images/image006-roi4.jpg  \n",
      "  inflating: segmentation/images/image003-2-roi1.jpg  \n",
      "  inflating: segmentation/images/image005-2-roi4.jpg  \n",
      "  inflating: segmentation/images/image043-roi4.jpg  \n",
      "  inflating: segmentation/images/image050-roi4.jpg  \n",
      "  inflating: segmentation/images/image019-roi1.jpg  \n",
      "  inflating: segmentation/images/image038-roi3.jpg  \n",
      "  inflating: segmentation/images/image039-roi2.jpg  \n",
      "  inflating: segmentation/images/image034-roi1.jpg  \n",
      "  inflating: segmentation/images/image024-roi5.jpg  \n",
      "  inflating: segmentation/images/image023-roi4.jpg  \n",
      "  inflating: segmentation/images/image037-roi4.jpg  \n",
      "  inflating: segmentation/images/image038-roi4.jpg  \n",
      "  inflating: segmentation/images/image019-roi4.jpg  \n",
      "  inflating: segmentation/images/image003-2-roi2.jpg  \n",
      "  inflating: segmentation/images/image008-roi1.jpg  \n",
      "  inflating: segmentation/images/image058-roi8.jpg  \n",
      "  inflating: segmentation/images/image050-roi1.jpg  \n",
      "  inflating: segmentation/images/image019-roi2.jpg  \n",
      "  inflating: segmentation/images/image003-2-roi3.jpg  \n",
      "  inflating: segmentation/images/image005-roi2.jpg  \n",
      "  inflating: segmentation/images/image037-roi5.jpg  \n",
      "  inflating: segmentation/images/image061-roi5.jpg  \n",
      "  inflating: segmentation/images/image043-roi2.jpg  \n",
      "  inflating: segmentation/images/image032-roi4.jpg  \n",
      "  inflating: segmentation/images/image058-roi6.jpg  \n",
      "  inflating: segmentation/images/image024-roi2.jpg  \n",
      "  inflating: segmentation/images/image008-roi3.jpg  \n",
      "  inflating: segmentation/images/image038-roi1.jpg  \n",
      "  inflating: segmentation/images/image037-roi2.jpg  \n",
      "  inflating: segmentation/images/image004-roi3.jpg  \n",
      "  inflating: segmentation/images/image050-roi2.jpg  \n",
      "  inflating: segmentation/images/image061-roi4.jpg  \n",
      "  inflating: segmentation/images/image004-roi4.jpg  \n"
     ]
    }
   ],
   "source": [
    "!rm -rf segmentation/\n",
    "!unzip ../../segmentation.zip"
   ]
  },
  {
   "cell_type": "code",
   "execution_count": 6,
   "id": "24aaf774",
   "metadata": {
    "id": "24aaf774"
   },
   "outputs": [],
   "source": [
    "data_root = 'segmentation'\n",
    "img_dir = 'images'\n",
    "ann_dir = 'annotations'"
   ]
  },
  {
   "cell_type": "code",
   "execution_count": 7,
   "id": "443efdad",
   "metadata": {
    "id": "443efdad"
   },
   "outputs": [],
   "source": [
    "classes = ('bg', 'cell')\n",
    "palette = [[0, 0, 0], [255, 255, 255]]"
   ]
  },
  {
   "cell_type": "code",
   "execution_count": 8,
   "id": "cf908c98",
   "metadata": {
    "colab": {
     "base_uri": "https://localhost:8080/",
     "height": 299
    },
    "id": "cf908c98",
    "outputId": "44b96b5e-0175-4eba-bff0-9a87c2bfc48e"
   },
   "outputs": [
    {
     "data": {
      "image/png": "[encoded data removed]",
      "text/plain": [
       "<Figure size 576x432 with 1 Axes>"
      ]
     },
     "metadata": {
      "needs_background": "light"
     },
     "output_type": "display_data"
    }
   ],
   "source": [
    "# Let's take a look at the segmentation map we got\n",
    "\n",
    "img = Image.open('segmentation/annotations/image003-2-roi1.tif')\n",
    "plt.figure(figsize=(8, 6))\n",
    "im = plt.imshow(np.array(img))\n",
    "\n",
    "# create a patch (proxy artist) for every color \n",
    "patches = [mpatches.Patch(color=np.array(palette[i])/255., \n",
    "                          label=classes[i]) for i in range(2)]\n",
    "# put those patched as legend-handles into the legend\n",
    "plt.legend(handles=patches, bbox_to_anchor=(1.05, 1), loc=2, borderaxespad=0., \n",
    "           fontsize='large')\n",
    "\n",
    "plt.show()"
   ]
  },
  {
   "cell_type": "code",
   "execution_count": 9,
   "id": "e418cf76",
   "metadata": {
    "id": "e418cf76"
   },
   "outputs": [],
   "source": [
    "# split train/val set randomly\n",
    "split_dir = 'splits'\n",
    "mmcv.mkdir_or_exist(osp.join(data_root, split_dir))\n",
    "filename_list = [osp.splitext(filename)[0] for filename in mmcv.scandir(osp.join(data_root, ann_dir), suffix='.tif')]\n",
    "with open(osp.join(data_root, split_dir, 'train.txt'), 'w') as f:\n",
    "    # select first 4/5 as train set\n",
    "    train_length = int(len(filename_list)*4/5)\n",
    "    f.writelines(line + '\\n' for line in filename_list[:train_length])\n",
    "with open(osp.join(data_root, split_dir, 'val.txt'), 'w') as f:\n",
    "    # select last 1/5 as train set\n",
    "    f.writelines(line + '\\n' for line in filename_list[train_length:])"
   ]
  },
  {
   "cell_type": "code",
   "execution_count": 10,
   "id": "b96138cd",
   "metadata": {
    "id": "b96138cd"
   },
   "outputs": [],
   "source": [
    "@DATASETS.register_module()\n",
    "class DysplasiaDataSet(CustomDataset):\n",
    "    CLASSES = classes\n",
    "    PALETTE = palette\n",
    "    def __init__(self, split, **kwargs):\n",
    "        super().__init__(img_suffix='.jpg', seg_map_suffix='.tif', split=split, **kwargs)\n",
    "        assert osp.exists(self.img_dir) and self.split is not None"
   ]
  },
  {
   "cell_type": "code",
   "execution_count": 16,
   "id": "9b26b02a",
   "metadata": {
    "id": "9b26b02a"
   },
   "outputs": [],
   "source": [
    "cfg = Config.fromfile('../models/pspnet.py')"
   ]
  },
  {
   "cell_type": "code",
   "execution_count": 17,
   "id": "ddc4bcf0",
   "metadata": {
    "colab": {
     "base_uri": "https://localhost:8080/"
    },
    "id": "ddc4bcf0",
    "outputId": "094012b1-4c18-4545-9578-c88094df4365"
   },
   "outputs": [
    {
     "name": "stdout",
     "output_type": "stream",
     "text": [
      "Config:\n",
      "norm_cfg = dict(type='BN', requires_grad=True)\n",
      "model = dict(\n",
      "    type='EncoderDecoder',\n",
      "    pretrained='open-mmlab://resnet50_v1c',\n",
      "    backbone=dict(\n",
      "        type='ResNetV1c',\n",
      "        depth=50,\n",
      "        num_stages=4,\n",
      "        out_indices=(0, 1, 2, 3),\n",
      "        dilations=(1, 1, 2, 4),\n",
      "        strides=(1, 2, 1, 1),\n",
      "        norm_cfg=dict(type='BN', requires_grad=True),\n",
      "        norm_eval=False,\n",
      "        style='pytorch',\n",
      "        contract_dilation=True),\n",
      "    decode_head=dict(\n",
      "        type='PSPHead',\n",
      "        in_channels=2048,\n",
      "        in_index=3,\n",
      "        channels=512,\n",
      "        pool_scales=(1, 2, 3, 6),\n",
      "        dropout_ratio=0.1,\n",
      "        num_classes=2,\n",
      "        norm_cfg=dict(type='BN', requires_grad=True),\n",
      "        align_corners=False,\n",
      "        loss_decode=dict(\n",
      "            type='CrossEntropyLoss', use_sigmoid=False, loss_weight=1.0)),\n",
      "    auxiliary_head=dict(\n",
      "        type='FCNHead',\n",
      "        in_channels=1024,\n",
      "        in_index=2,\n",
      "        channels=256,\n",
      "        num_convs=1,\n",
      "        concat_input=False,\n",
      "        dropout_ratio=0.1,\n",
      "        num_classes=2,\n",
      "        norm_cfg=dict(type='BN', requires_grad=True),\n",
      "        align_corners=False,\n",
      "        loss_decode=dict(\n",
      "            type='CrossEntropyLoss', use_sigmoid=False, loss_weight=0.4)),\n",
      "    train_cfg=dict(),\n",
      "    test_cfg=dict(mode='whole'))\n",
      "dataset_type = 'DysplasiaDataSet'\n",
      "data_root = 'segmentation'\n",
      "img_norm_cfg = dict(\n",
      "    mean=[123.675, 116.28, 103.53], std=[58.395, 57.12, 57.375], to_rgb=True)\n",
      "crop_size = (256, 256)\n",
      "train_pipeline = [\n",
      "    dict(type='LoadImageFromFile'),\n",
      "    dict(type='LoadAnnotations'),\n",
      "    dict(type='Resize', img_scale=(320, 240), ratio_range=(0.5, 2.0)),\n",
      "    dict(type='RandomCrop', crop_size=(256, 256), cat_max_ratio=0.75),\n",
      "    dict(type='RandomFlip', flip_ratio=0.5),\n",
      "    dict(type='PhotoMetricDistortion'),\n",
      "    dict(\n",
      "        type='Normalize',\n",
      "        mean=[123.675, 116.28, 103.53],\n",
      "        std=[58.395, 57.12, 57.375],\n",
      "        to_rgb=True),\n",
      "    dict(type='Pad', size=(256, 256), pad_val=0, seg_pad_val=255),\n",
      "    dict(type='DefaultFormatBundle'),\n",
      "    dict(type='Collect', keys=['img', 'gt_semantic_seg'])\n",
      "]\n",
      "test_pipeline = [\n",
      "    dict(type='LoadImageFromFile'),\n",
      "    dict(\n",
      "        type='MultiScaleFlipAug',\n",
      "        img_scale=(320, 240),\n",
      "        flip=False,\n",
      "        transforms=[\n",
      "            dict(type='Resize', keep_ratio=True),\n",
      "            dict(type='RandomFlip'),\n",
      "            dict(\n",
      "                type='Normalize',\n",
      "                mean=[123.675, 116.28, 103.53],\n",
      "                std=[58.395, 57.12, 57.375],\n",
      "                to_rgb=True),\n",
      "            dict(type='ImageToTensor', keys=['img']),\n",
      "            dict(type='Collect', keys=['img'])\n",
      "        ])\n",
      "]\n",
      "data = dict(\n",
      "    samples_per_gpu=8,\n",
      "    workers_per_gpu=4,\n",
      "    train=dict(\n",
      "        type='DysplasiaDataSet',\n",
      "        data_root='segmentation',\n",
      "        img_dir='images',\n",
      "        ann_dir='annotations',\n",
      "        pipeline=[\n",
      "            dict(type='LoadImageFromFile'),\n",
      "            dict(type='LoadAnnotations'),\n",
      "            dict(type='Resize', img_scale=(320, 240), ratio_range=(0.5, 2.0)),\n",
      "            dict(type='RandomCrop', crop_size=(256, 256), cat_max_ratio=0.75),\n",
      "            dict(type='RandomFlip', flip_ratio=0.5),\n",
      "            dict(type='PhotoMetricDistortion'),\n",
      "            dict(\n",
      "                type='Normalize',\n",
      "                mean=[123.675, 116.28, 103.53],\n",
      "                std=[58.395, 57.12, 57.375],\n",
      "                to_rgb=True),\n",
      "            dict(type='Pad', size=(256, 256), pad_val=0, seg_pad_val=255),\n",
      "            dict(type='DefaultFormatBundle'),\n",
      "            dict(type='Collect', keys=['img', 'gt_semantic_seg'])\n",
      "        ],\n",
      "        split='splits/train.txt'),\n",
      "    val=dict(\n",
      "        type='DysplasiaDataSet',\n",
      "        data_root='segmentation',\n",
      "        img_dir='images',\n",
      "        ann_dir='annotations',\n",
      "        pipeline=[\n",
      "            dict(type='LoadImageFromFile'),\n",
      "            dict(\n",
      "                type='MultiScaleFlipAug',\n",
      "                img_scale=(320, 240),\n",
      "                flip=False,\n",
      "                transforms=[\n",
      "                    dict(type='Resize', keep_ratio=True),\n",
      "                    dict(type='RandomFlip'),\n",
      "                    dict(\n",
      "                        type='Normalize',\n",
      "                        mean=[123.675, 116.28, 103.53],\n",
      "                        std=[58.395, 57.12, 57.375],\n",
      "                        to_rgb=True),\n",
      "                    dict(type='ImageToTensor', keys=['img']),\n",
      "                    dict(type='Collect', keys=['img'])\n",
      "                ])\n",
      "        ],\n",
      "        split='splits/val.txt'),\n",
      "    test=dict(\n",
      "        type='DysplasiaDataSet',\n",
      "        data_root='segmentation',\n",
      "        img_dir='images',\n",
      "        ann_dir='annotations',\n",
      "        pipeline=[\n",
      "            dict(type='LoadImageFromFile'),\n",
      "            dict(\n",
      "                type='MultiScaleFlipAug',\n",
      "                img_scale=(320, 240),\n",
      "                flip=False,\n",
      "                transforms=[\n",
      "                    dict(type='Resize', keep_ratio=True),\n",
      "                    dict(type='RandomFlip'),\n",
      "                    dict(\n",
      "                        type='Normalize',\n",
      "                        mean=[123.675, 116.28, 103.53],\n",
      "                        std=[58.395, 57.12, 57.375],\n",
      "                        to_rgb=True),\n",
      "                    dict(type='ImageToTensor', keys=['img']),\n",
      "                    dict(type='Collect', keys=['img'])\n",
      "                ])\n",
      "        ],\n",
      "        split='splits/val.txt'))\n",
      "log_config = dict(\n",
      "    interval=100, hooks=[dict(type='TextLoggerHook', by_epoch=False)])\n",
      "dist_params = dict(backend='nccl')\n",
      "log_level = 'INFO'\n",
      "load_from = None\n",
      "resume_from = None\n",
      "workflow = [('train', 1)]\n",
      "cudnn_benchmark = True\n",
      "optimizer = dict(type='SGD', lr=0.01, momentum=0.9, weight_decay=0.0005)\n",
      "optimizer_config = dict()\n",
      "lr_config = dict(policy='poly', power=0.9, min_lr=0.0001, by_epoch=False)\n",
      "runner = dict(type='IterBasedRunner', max_iters=2000)\n",
      "checkpoint_config = dict(by_epoch=False, interval=200)\n",
      "evaluation = dict(interval=200, metric='mIoU', pre_eval=True)\n",
      "work_dir = './work_dirs/tutorial'\n",
      "seed = 0\n",
      "gpu_ids = range(0, 1)\n",
      "\n"
     ]
    }
   ],
   "source": [
    "print(f'Config:\\n{cfg.pretty_text}')"
   ]
  },
  {
   "cell_type": "code",
   "execution_count": 18,
   "id": "932fee98",
   "metadata": {
    "colab": {
     "base_uri": "https://localhost:8080/"
    },
    "id": "932fee98",
    "outputId": "5bdd9de0-c1f4-4e8a-8fcf-104387978c1c"
   },
   "outputs": [
    {
     "name": "stderr",
     "output_type": "stream",
     "text": [
      "2022-01-27 20:33:38,369 - mmseg - INFO - Loaded 96 images\n"
     ]
    }
   ],
   "source": [
    "datasets = [build_dataset(cfg.data.train)]"
   ]
  },
  {
   "cell_type": "code",
   "execution_count": 19,
   "id": "e740d93b",
   "metadata": {
    "colab": {
     "base_uri": "https://localhost:8080/"
    },
    "id": "e740d93b",
    "outputId": "b9e18ab4-e41d-40a3-ce86-f749175c79f0"
   },
   "outputs": [],
   "source": [
    "# Build the detector\n",
    "model = build_segmentor(\n",
    "    cfg.model, train_cfg=cfg.get('train_cfg'), test_cfg=cfg.get('test_cfg'))\n",
    "# Add an attribute for visualization convenience\n",
    "model.CLASSES = datasets[0].CLASSES"
   ]
  },
  {
   "cell_type": "code",
   "execution_count": null,
   "id": "7af36ee7",
   "metadata": {
    "colab": {
     "base_uri": "https://localhost:8080/"
    },
    "id": "7af36ee7",
    "outputId": "3e17d44d-bf0c-4f94-ed6a-95a52155624d"
   },
   "outputs": [],
   "source": [
    "# Create work_dir\n",
    "mmcv.mkdir_or_exist(osp.abspath(cfg.work_dir))\n",
    "train_segmentor(model, datasets, cfg, distributed=False, validate=True, meta=dict())"
   ]
  },
  {
   "cell_type": "code",
   "execution_count": null,
   "id": "3d01d86b",
   "metadata": {
    "colab": {
     "base_uri": "https://localhost:8080/",
     "height": 676
    },
    "id": "3d01d86b",
    "outputId": "90dea3bf-485f-4363-81cb-cbc5e5b56b73"
   },
   "outputs": [],
   "source": [
    "from mmseg.apis import inference_segmentor, show_result_pyplot\n",
    "img = mmcv.imread('/content/mmsegmentation/segmentation/images/image003-2-roi1.jpg')\n",
    "\n",
    "model.cfg = cfg\n",
    "result = inference_segmentor(model, img)\n",
    "plt.figure(figsize=(8, 6))\n",
    "show_result_pyplot(model, img, result, palette)"
   ]
  },
  {
   "cell_type": "code",
   "execution_count": null,
   "id": "4liM9MFm2Hgx",
   "metadata": {
    "colab": {
     "base_uri": "https://localhost:8080/",
     "height": 676
    },
    "id": "4liM9MFm2Hgx",
    "outputId": "3e893a4f-e25b-4769-c499-e357558df78c"
   },
   "outputs": [],
   "source": [
    "from mmseg.apis import inference_segmentor, show_result_pyplot\n",
    "img = mmcv.imread('segmentation/images/image003-2-roi1.jpg')\n",
    "result = mmcv.imread('segmentation/annotations/image003-2-roi1.tif',flag='grayscale')\n",
    "\n",
    "model.cfg = cfg\n",
    "# result = inference_segmentor(model, img)\n",
    "plt.figure(figsize=(8, 6))\n",
    "show_result_pyplot(model, img, [result], palette)"
   ]
  },
  {
   "cell_type": "code",
   "execution_count": null,
   "id": "5d8462ce",
   "metadata": {
    "colab": {
     "base_uri": "https://localhost:8080/",
     "height": 676
    },
    "id": "5d8462ce",
    "outputId": "67ef5188-f965-41ca-a86d-49475e6612be"
   },
   "outputs": [],
   "source": [
    "from mmseg.apis import inference_segmentor, show_result_pyplot\n",
    "img = mmcv.imread('/content/mmsegmentation/segmentation/images/image037-roi4.jpg')\n",
    "\n",
    "model.cfg = cfg\n",
    "result = inference_segmentor(model, img)\n",
    "plt.figure(figsize=(8, 6))\n",
    "show_result_pyplot(model, img, result, palette)"
   ]
  },
  {
   "cell_type": "code",
   "execution_count": null,
   "id": "1_33v89iw4xZ",
   "metadata": {
    "colab": {
     "base_uri": "https://localhost:8080/",
     "height": 676
    },
    "id": "1_33v89iw4xZ",
    "outputId": "0b21cc40-3490-4b55-bc50-cc5e859abbc5"
   },
   "outputs": [],
   "source": [
    "from mmseg.apis import inference_segmentor, show_result_pyplot\n",
    "img = mmcv.imread('/content/mmsegmentation/segmentation/images/image037-roi4.jpg')\n",
    "result = mmcv.imread('/content/mmsegmentation/segmentation/annotations/image037-roi4.tif',flag='grayscale')\n",
    "\n",
    "model.cfg = cfg\n",
    "# result = inference_segmentor(model, img)\n",
    "plt.figure(figsize=(8, 6))\n",
    "show_result_pyplot(model, img, [result], palette)"
   ]
  },
  {
   "cell_type": "code",
   "execution_count": null,
   "id": "71nYVAZE2XIx",
   "metadata": {
    "id": "71nYVAZE2XIx"
   },
   "outputs": [],
   "source": []
  }
 ],
 "metadata": {
  "accelerator": "GPU",
  "colab": {
   "collapsed_sections": [],
   "name": "My_MMSegmentation_Ok.ipynb",
   "provenance": []
  },
  "kernelspec": {
   "display_name": "Python 3 (ipykernel)",
   "language": "python",
   "name": "python3"
  },
  "language_info": {
   "codemirror_mode": {
    "name": "ipython",
    "version": 3
   },
   "file_extension": ".py",
   "mimetype": "text/x-python",
   "name": "python",
   "nbconvert_exporter": "python",
   "pygments_lexer": "ipython3",
   "version": "3.9.7"
  }
 },
 "nbformat": 4,
 "nbformat_minor": 5
}
