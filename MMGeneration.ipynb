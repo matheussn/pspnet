{
 "cells": [
  {
   "cell_type": "code",
   "execution_count": null,
   "id": "f9223b2b",
   "metadata": {},
   "outputs": [],
   "source": [
    "# !pip install mmcv-full -f https://download.openmmlab.com/mmcv/dist/{cu_version}/{torch_version}/index.html\n",
    "!pip install mmcv-full -f https://download.openmmlab.com/mmcv/dist/cu101/torch1.8.0/index.html"
   ]
  },
  {
   "cell_type": "code",
   "execution_count": null,
   "id": "557c9667",
   "metadata": {},
   "outputs": [],
   "source": [
    "!git clone https://github.com/open-mmlab/mmgeneration.git\n",
    "%cd mmgeneration"
   ]
  },
  {
   "cell_type": "code",
   "execution_count": null,
   "id": "6238980d",
   "metadata": {},
   "outputs": [],
   "source": [
    "!pip install -r requirements.txt\n",
    "!pip install -v -e . "
   ]
  },
  {
   "cell_type": "code",
   "execution_count": null,
   "id": "a05c8fda",
   "metadata": {},
   "outputs": [],
   "source": [
    "!pip install ipywidgets"
   ]
  },
  {
   "cell_type": "code",
   "execution_count": null,
   "id": "dfbfe4c7",
   "metadata": {},
   "outputs": [],
   "source": [
    "import matplotlib.pyplot as plt\n",
    "import numpy as np\n",
    "%matplotlib inline"
   ]
  },
  {
   "cell_type": "code",
   "execution_count": null,
   "id": "cfdce352",
   "metadata": {},
   "outputs": [],
   "source": [
    "!unzip ../generation.zip ./data/"
   ]
  },
  {
   "cell_type": "code",
   "execution_count": 7,
   "id": "fba3ee1b",
   "metadata": {},
   "outputs": [],
   "source": [
    "!cp ./data/dcgan.py ./configs/dcgan/"
   ]
  },
  {
   "cell_type": "code",
   "execution_count": null,
   "id": "e868d3a0",
   "metadata": {},
   "outputs": [],
   "source": [
    "import mmcv\n",
    "from mmcv import Config\n",
    "from mmgen.apis import init_model, sample_uncoditional_model\n",
    "\n",
    "# Specify the path to model config and checkpoint file\n",
    "config_file = 'configs/dcgan/dcgan.py'\n",
    "# you can download this checkpoint in advance and use a local file path.\n",
    "# checkpoint_file = 'https://download.openmmlab.com/mmgen/pix2pix/refactor/pix2pix_vanilla_unet_bn_wo_jitter_flip_1x4_186840_edges2shoes_convert-bgr_20210902_170902-0c828552.pth'\n",
    "# Specify the path to image you want to translate\n",
    "image_path = 'data/dysplasia'\n",
    "device = 'cuda:0'\n",
    "# init a generatvie\n",
    "# cfg = Config.fromfile('configs/pspnet/pspnet_r50-d8_512x1024_40k_cityscapes.py')\n",
    "cfg = Config.fromfile(config_file)\n",
    "model = init_model(config_file, device=device)\n",
    "# translate a single image\n",
    "translated_image = sample_uncoditional_model(model, 4)"
   ]
  },
  {
   "cell_type": "code",
   "execution_count": null,
   "id": "d04159af",
   "metadata": {},
   "outputs": [],
   "source": [
    "translated_image = (translated_image[:, [2, 1, 0]] + 1.) / 2."
   ]
  },
  {
   "cell_type": "code",
   "execution_count": null,
   "id": "4e25210c",
   "metadata": {},
   "outputs": [],
   "source": [
    "fig, axs = plt.subplots(2, 2)\n",
    "cnt = 0\n",
    "for i in range(2):\n",
    "    for j in range(2):\n",
    "        img = translated_image[cnt].permute(1, 2, 0)\n",
    "        axs[i, j].imshow(img)\n",
    "        axs[i, j].axis('off')\n",
    "        cnt += 1"
   ]
  },
  {
   "cell_type": "code",
   "execution_count": null,
   "id": "b1f760d6",
   "metadata": {},
   "outputs": [],
   "source": [
    "from mmgen.apis import train_model\n",
    "from mmgen.datasets import build_dataset"
   ]
  },
  {
   "cell_type": "code",
   "execution_count": null,
   "id": "74cf2b9c",
   "metadata": {},
   "outputs": [],
   "source": [
    "datasets = [build_dataset(cfg.data['train'])]"
   ]
  },
  {
   "cell_type": "code",
   "execution_count": null,
   "id": "b1139083",
   "metadata": {},
   "outputs": [],
   "source": [
    "train_model(model, datasets, cfg)"
   ]
  },
  {
   "cell_type": "code",
   "execution_count": null,
   "id": "ecc9a9bf",
   "metadata": {},
   "outputs": [],
   "source": [
    "gen_imgs = sample_uncoditional_model(model, 4)"
   ]
  },
  {
   "cell_type": "code",
   "execution_count": null,
   "id": "8f9e04b7",
   "metadata": {},
   "outputs": [],
   "source": [
    "gen_imgs = (gen_imgs[:, [2, 1, 0]] + 1.) / 2."
   ]
  },
  {
   "cell_type": "code",
   "execution_count": null,
   "id": "8c80d272",
   "metadata": {},
   "outputs": [],
   "source": [
    "fig, axs = plt.subplots(2, 2)\n",
    "cnt = 0\n",
    "for i in range(2):\n",
    "    for j in range(2):\n",
    "        img = gen_imgs[cnt]\n",
    "        axs[i, j].imshow(img)\n",
    "        axs[i, j].axis('off')\n",
    "        cnt += 1"
   ]
  },
  {
   "cell_type": "code",
   "execution_count": null,
   "id": "87db7f43",
   "metadata": {},
   "outputs": [],
   "source": [
    "fig, axs = plt.subplots(2, 2)\n",
    "cnt = 0\n",
    "for i in range(2):\n",
    "    for j in range(2):\n",
    "        img = gen_imgs[cnt].permute(1, 2, 0)\n",
    "        axs[i, j].imshow(img)\n",
    "        axs[i, j].axis('off')\n",
    "        cnt += 1"
   ]
  }
 ],
 "metadata": {
  "kernelspec": {
   "display_name": "Python 3 (ipykernel)",
   "language": "python",
   "name": "python3"
  },
  "language_info": {
   "codemirror_mode": {
    "name": "ipython",
    "version": 3
   },
   "file_extension": ".py",
   "mimetype": "text/x-python",
   "name": "python",
   "nbconvert_exporter": "python",
   "pygments_lexer": "ipython3",
   "version": "3.9.7"
  }
 },
 "nbformat": 4,
 "nbformat_minor": 5
}
