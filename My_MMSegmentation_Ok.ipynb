{
 "cells": [
  {
   "cell_type": "code",
   "execution_count": 1,
   "id": "83acaa9d",
   "metadata": {
    "colab": {
     "base_uri": "https://localhost:8080/"
    },
    "id": "83acaa9d",
    "outputId": "077fb831-9ad8-45d4-d966-80aeeeae7bb7"
   },
   "outputs": [
    {
     "name": "stdout",
     "output_type": "stream",
     "text": [
      "Looking in links: https://download.pytorch.org/whl/torch_stable.html\n",
      "Requirement already satisfied: torch==1.8.1+cu101 in /home/neto/anaconda3/envs/torch_gpu/lib/python3.9/site-packages (1.8.1+cu101)\n",
      "Requirement already satisfied: torchvision==0.9.1+cu101 in /home/neto/anaconda3/envs/torch_gpu/lib/python3.9/site-packages (0.9.1+cu101)\n",
      "Requirement already satisfied: numpy in /home/neto/anaconda3/envs/torch_gpu/lib/python3.9/site-packages (from torch==1.8.1+cu101) (1.21.4)\n",
      "Requirement already satisfied: typing-extensions in /home/neto/anaconda3/envs/torch_gpu/lib/python3.9/site-packages (from torch==1.8.1+cu101) (4.0.1)\n",
      "Requirement already satisfied: pillow>=4.1.1 in /home/neto/anaconda3/envs/torch_gpu/lib/python3.9/site-packages (from torchvision==0.9.1+cu101) (8.4.0)\n",
      "Looking in links: https://download.openmmlab.com/mmcv/dist/cu101/torch1.8.0/index.html\n",
      "Requirement already satisfied: mmcv-full in /home/neto/anaconda3/envs/torch_gpu/lib/python3.9/site-packages (1.4.1)\n",
      "Requirement already satisfied: pyyaml in /home/neto/anaconda3/envs/torch_gpu/lib/python3.9/site-packages (from mmcv-full) (6.0)\n",
      "Requirement already satisfied: yapf in /home/neto/anaconda3/envs/torch_gpu/lib/python3.9/site-packages (from mmcv-full) (0.31.0)\n",
      "Requirement already satisfied: Pillow in /home/neto/anaconda3/envs/torch_gpu/lib/python3.9/site-packages (from mmcv-full) (8.4.0)\n",
      "Requirement already satisfied: addict in /home/neto/anaconda3/envs/torch_gpu/lib/python3.9/site-packages (from mmcv-full) (2.4.0)\n",
      "Requirement already satisfied: packaging in /home/neto/anaconda3/envs/torch_gpu/lib/python3.9/site-packages (from mmcv-full) (21.3)\n",
      "Requirement already satisfied: opencv-python>=3 in /home/neto/anaconda3/envs/torch_gpu/lib/python3.9/site-packages (from mmcv-full) (4.5.4.60)\n",
      "Requirement already satisfied: numpy in /home/neto/anaconda3/envs/torch_gpu/lib/python3.9/site-packages (from mmcv-full) (1.21.4)\n",
      "Requirement already satisfied: pyparsing!=3.0.5,>=2.0.2 in /home/neto/anaconda3/envs/torch_gpu/lib/python3.9/site-packages (from packaging->mmcv-full) (3.0.4)\n"
     ]
    }
   ],
   "source": [
    "# Install PyTorch\n",
    "!pip install -U torch==1.8.1+cu101 torchvision==0.9.1+cu101 -f https://download.pytorch.org/whl/torch_stable.html\n",
    "# Install MMCV\n",
    "!pip install mmcv-full -f https://download.openmmlab.com/mmcv/dist/cu101/torch1.8.0/index.html"
   ]
  },
  {
   "cell_type": "code",
   "execution_count": 2,
   "id": "df0f9312",
   "metadata": {
    "colab": {
     "base_uri": "https://localhost:8080/"
    },
    "id": "df0f9312",
    "outputId": "8c80adc7-7807-47b6-c65d-56bb3c7e23c8"
   },
   "outputs": [
    {
     "name": "stdout",
     "output_type": "stream",
     "text": [
      "Cloning into 'mmsegmentation'...\n",
      "remote: Enumerating objects: 5609, done.\u001b[K\n",
      "remote: Counting objects: 100% (117/117), done.\u001b[K\n",
      "remote: Compressing objects: 100% (83/83), done.\u001b[K\n",
      "remote: Total 5609 (delta 50), reused 63 (delta 33), pack-reused 5492\u001b[K\n",
      "Receiving objects: 100% (5609/5609), 11.57 MiB | 14.17 MiB/s, done.\n",
      "Resolving deltas: 100% (4118/4118), done.\n",
      "/home/neto/projects/tcc/mmsegmentation\n",
      "Obtaining file:///home/neto/projects/tcc/mmsegmentation\n",
      "Requirement already satisfied: matplotlib in /home/neto/anaconda3/envs/torch_gpu/lib/python3.9/site-packages (from mmsegmentation==0.20.2) (3.5.1)\n",
      "Requirement already satisfied: numpy in /home/neto/anaconda3/envs/torch_gpu/lib/python3.9/site-packages (from mmsegmentation==0.20.2) (1.21.4)\n",
      "Requirement already satisfied: packaging in /home/neto/anaconda3/envs/torch_gpu/lib/python3.9/site-packages (from mmsegmentation==0.20.2) (21.3)\n",
      "Requirement already satisfied: prettytable in /home/neto/anaconda3/envs/torch_gpu/lib/python3.9/site-packages (from mmsegmentation==0.20.2) (2.4.0)\n",
      "Requirement already satisfied: pyparsing>=2.2.1 in /home/neto/anaconda3/envs/torch_gpu/lib/python3.9/site-packages (from matplotlib->mmsegmentation==0.20.2) (3.0.4)\n",
      "Requirement already satisfied: kiwisolver>=1.0.1 in /home/neto/anaconda3/envs/torch_gpu/lib/python3.9/site-packages (from matplotlib->mmsegmentation==0.20.2) (1.3.2)\n",
      "Requirement already satisfied: pillow>=6.2.0 in /home/neto/anaconda3/envs/torch_gpu/lib/python3.9/site-packages (from matplotlib->mmsegmentation==0.20.2) (8.4.0)\n",
      "Requirement already satisfied: python-dateutil>=2.7 in /home/neto/anaconda3/envs/torch_gpu/lib/python3.9/site-packages (from matplotlib->mmsegmentation==0.20.2) (2.8.2)\n",
      "Requirement already satisfied: fonttools>=4.22.0 in /home/neto/anaconda3/envs/torch_gpu/lib/python3.9/site-packages (from matplotlib->mmsegmentation==0.20.2) (4.28.5)\n",
      "Requirement already satisfied: cycler>=0.10 in /home/neto/anaconda3/envs/torch_gpu/lib/python3.9/site-packages (from matplotlib->mmsegmentation==0.20.2) (0.11.0)\n",
      "Requirement already satisfied: six>=1.5 in /home/neto/anaconda3/envs/torch_gpu/lib/python3.9/site-packages (from python-dateutil>=2.7->matplotlib->mmsegmentation==0.20.2) (1.16.0)\n",
      "Requirement already satisfied: wcwidth in /home/neto/anaconda3/envs/torch_gpu/lib/python3.9/site-packages (from prettytable->mmsegmentation==0.20.2) (0.2.5)\n",
      "Installing collected packages: mmsegmentation\n",
      "  Running setup.py develop for mmsegmentation\n",
      "Successfully installed mmsegmentation-0.20.2\n"
     ]
    }
   ],
   "source": [
    "!rm -rf mmsegmentation\n",
    "!git clone https://github.com/open-mmlab/mmsegmentation.git \n",
    "%cd mmsegmentation\n",
    "!pip install -e ."
   ]
  },
  {
   "cell_type": "code",
   "execution_count": 3,
   "id": "52d007b4",
   "metadata": {
    "colab": {
     "base_uri": "https://localhost:8080/"
    },
    "id": "52d007b4",
    "outputId": "3ca77c26-5617-4a8b-93a7-36c5898ea04a"
   },
   "outputs": [
    {
     "name": "stdout",
     "output_type": "stream",
     "text": [
      "1.8.1+cu101 True\n",
      "0.20.2\n"
     ]
    }
   ],
   "source": [
    "# Check Pytorch installation\n",
    "import torch, torchvision\n",
    "print(torch.__version__, torch.cuda.is_available())\n",
    "\n",
    "# Check MMSegmentation installation\n",
    "import mmseg\n",
    "from mmseg.datasets import build_dataset\n",
    "from mmseg.datasets.builder import DATASETS\n",
    "from mmseg.datasets.custom import CustomDataset\n",
    "from mmseg.apis import set_random_seed, train_segmentor\n",
    "from mmseg.models import build_segmentor\n",
    "print(mmseg.__version__)\n",
    "\n",
    "import mmcv\n",
    "from mmcv import Config\n",
    "\n",
    "import os.path as osp\n",
    "import numpy as np\n",
    "from PIL import Image\n",
    "import matplotlib.patches as mpatches\n",
    "import matplotlib.pyplot as plt"
   ]
  },
  {
   "cell_type": "code",
   "execution_count": 4,
   "id": "9059039b",
   "metadata": {
    "colab": {
     "base_uri": "https://localhost:8080/"
    },
    "id": "9059039b",
    "outputId": "bea958fe-5ab1-4efc-975e-125b7a613ba6"
   },
   "outputs": [
    {
     "name": "stdout",
     "output_type": "stream",
     "text": [
      "Archive:  ../segmentationV3.zip\r\n",
      "   creating: segmentation/\r\n",
      "   creating: segmentation/annotations/\r\n",
      " extracting: segmentation/annotations/image024-roi1.png  \r\n",
      " extracting: segmentation/annotations/image024-roi3.png  \r\n",
      " extracting: segmentation/annotations/image061-roi5.png  \r\n",
      " extracting: segmentation/annotations/image061-roi2.png  \r\n",
      " extracting: segmentation/annotations/image038-roi3.png  \r\n",
      " extracting: segmentation/annotations/image003-2-roi2.png  \r\n",
      " extracting: segmentation/annotations/image043-roi3.png  \r\n",
      " extracting: segmentation/annotations/image019-roi1.png  \r\n",
      " extracting: segmentation/annotations/image017-roi1.png  \r\n",
      " extracting: segmentation/annotations/image022-roi1.png  \r\n",
      " extracting: segmentation/annotations/image037-roi3.png  \r\n",
      " extracting: segmentation/annotations/image058-roi5.png  \r\n",
      " extracting: segmentation/annotations/image006-2-roi1.png  \r\n",
      " extracting: segmentation/annotations/image004-roi2.png  \r\n",
      " extracting: segmentation/annotations/image019-roi2.png  \r\n",
      " extracting: segmentation/annotations/image006-roi2.png  \r\n",
      " extracting: segmentation/annotations/image005-roi2.png  \r\n",
      " extracting: segmentation/annotations/image004-roi3.png  \r\n",
      " extracting: segmentation/annotations/image037-roi4.png  \r\n",
      " extracting: segmentation/annotations/image004-roi5.png  \r\n",
      " extracting: segmentation/annotations/image021-roi2.png  \r\n",
      " extracting: segmentation/annotations/image058-roi1.png  \r\n",
      " extracting: segmentation/annotations/image062-roi2.png  \r\n",
      " extracting: segmentation/annotations/image021-roi3.png  \r\n",
      " extracting: segmentation/annotations/image020-roi5.png  \r\n",
      " extracting: segmentation/annotations/image039-roi3.png  \r\n",
      " extracting: segmentation/annotations/image062-roi1.png  \r\n",
      " extracting: segmentation/annotations/image032-roi3.png  \r\n",
      " extracting: segmentation/annotations/image024-roi2.png  \r\n",
      " extracting: segmentation/annotations/image039-roi1.png  \r\n",
      " extracting: segmentation/annotations/image005-2-roi4.png  \r\n",
      " extracting: segmentation/annotations/image061-roi4.png  \r\n",
      " extracting: segmentation/annotations/image008-roi2.png  \r\n",
      " extracting: segmentation/annotations/image061-roi3.png  \r\n",
      " extracting: segmentation/annotations/image037-roi2.png  \r\n",
      " extracting: segmentation/annotations/image024-roi6.png  \r\n",
      " extracting: segmentation/annotations/image037-roi5.png  \r\n",
      " extracting: segmentation/annotations/image005-2-roi3.png  \r\n",
      " extracting: segmentation/annotations/image006-roi3.png  \r\n",
      " extracting: segmentation/annotations/image058-roi3.png  \r\n",
      " extracting: segmentation/annotations/image033-roi2.png  \r\n",
      " extracting: segmentation/annotations/image008-roi4.png  \r\n",
      " extracting: segmentation/annotations/image019-roi3.png  \r\n",
      " extracting: segmentation/annotations/image006-2-roi4.png  \r\n",
      " extracting: segmentation/annotations/image038-roi2.png  \r\n",
      " extracting: segmentation/annotations/image008-roi1.png  \r\n",
      " extracting: segmentation/annotations/image018-roi3.png  \r\n",
      " extracting: segmentation/annotations/image006-2-roi3.png  \r\n",
      " extracting: segmentation/annotations/image039-roi2.png  \r\n",
      " extracting: segmentation/annotations/image023-roi1.png  \r\n",
      " extracting: segmentation/annotations/image050-roi4.png  \r\n",
      " extracting: segmentation/annotations/image019-roi4.png  \r\n",
      " extracting: segmentation/annotations/image019-roi5.png  \r\n",
      " extracting: segmentation/annotations/image023-roi4.png  \r\n",
      " extracting: segmentation/annotations/image034-roi1.png  \r\n",
      " extracting: segmentation/annotations/image005-roi1.png  \r\n",
      " extracting: segmentation/annotations/image029-roi1.png  \r\n",
      " extracting: segmentation/annotations/image017-roi2.png  \r\n",
      " extracting: segmentation/annotations/image043-roi1.png  \r\n",
      " extracting: segmentation/annotations/image018-roi8.png  \r\n",
      " extracting: segmentation/annotations/image038-roi4.png  \r\n",
      " extracting: segmentation/annotations/image034-roi2.png  \r\n",
      " extracting: segmentation/annotations/image020-roi2.png  \r\n",
      " extracting: segmentation/annotations/image050-roi5.png  \r\n",
      " extracting: segmentation/annotations/image050-roi1.png  \r\n",
      " extracting: segmentation/annotations/image043-roi4.png  \r\n",
      " extracting: segmentation/annotations/image024-roi4.png  \r\n",
      " extracting: segmentation/annotations/image038-roi1.png  \r\n",
      " extracting: segmentation/annotations/image020-roi1.png  \r\n",
      " extracting: segmentation/annotations/image005-2-roi2.png  \r\n",
      " extracting: segmentation/annotations/image003-2-roi3.png  \r\n",
      " extracting: segmentation/annotations/image018-roi4.png  \r\n",
      " extracting: segmentation/annotations/image021-roi4.png  \r\n",
      " extracting: segmentation/annotations/image021-roi5.png  \r\n",
      " extracting: segmentation/annotations/image017-roi3.png  \r\n",
      " extracting: segmentation/annotations/image005-roi4.png  \r\n",
      " extracting: segmentation/annotations/image004-roi4.png  \r\n",
      " extracting: segmentation/annotations/image033-roi1.png  \r\n",
      " extracting: segmentation/annotations/image029-roi2.png  \r\n",
      " extracting: segmentation/annotations/image008-roi3.png  \r\n",
      " extracting: segmentation/annotations/image006-2-roi2.png  \r\n",
      " extracting: segmentation/annotations/image058-roi4.png  \r\n",
      " extracting: segmentation/annotations/image020-roi3.png  \r\n",
      " extracting: segmentation/annotations/image003-2-roi4.png  \r\n",
      " extracting: segmentation/annotations/image024-roi5.png  \r\n",
      " extracting: segmentation/annotations/image003-2-roi1.png  \r\n",
      " extracting: segmentation/annotations/image021-roi6.png  \r\n",
      " extracting: segmentation/annotations/image058-roi2.png  \r\n",
      " extracting: segmentation/annotations/image032-roi2.png  \r\n",
      " extracting: segmentation/annotations/image050-roi2.png  \r\n",
      " extracting: segmentation/annotations/image005-2-roi1.png  \r\n",
      " extracting: segmentation/annotations/image029-roi3.png  \r\n",
      " extracting: segmentation/annotations/image004-roi1.png  \r\n",
      " extracting: segmentation/annotations/image003-2-roi5.png  \r\n",
      " extracting: segmentation/annotations/image037-roi7.png  \r\n",
      " extracting: segmentation/annotations/image018-roi7.png  \r\n",
      " extracting: segmentation/annotations/image006-roi4.png  \r\n",
      " extracting: segmentation/annotations/image058-roi7.png  \r\n",
      " extracting: segmentation/annotations/image058-roi8.png  \r\n",
      " extracting: segmentation/annotations/image038-roi5.png  \r\n",
      " extracting: segmentation/annotations/image018-roi5.png  \r\n",
      " extracting: segmentation/annotations/image061-roi1.png  \r\n",
      " extracting: segmentation/annotations/image043-roi2.png  \r\n",
      " extracting: segmentation/annotations/image021-roi1.png  \r\n",
      " extracting: segmentation/annotations/image023-roi2.png  \r\n",
      " extracting: segmentation/annotations/image032-roi4.png  \r\n",
      " extracting: segmentation/annotations/image005-roi3.png  \r\n",
      " extracting: segmentation/annotations/image019-roi6.png  \r\n",
      " extracting: segmentation/annotations/image029-roi4.png  \r\n",
      " extracting: segmentation/annotations/image020-roi4.png  \r\n",
      " extracting: segmentation/annotations/image018-roi2.png  \r\n",
      " extracting: segmentation/annotations/image006-roi5.png  \r\n",
      " extracting: segmentation/annotations/image037-roi6.png  \r\n",
      " extracting: segmentation/annotations/image006-roi1.png  \r\n",
      " extracting: segmentation/annotations/image023-roi3.png  \r\n",
      " extracting: segmentation/annotations/image018-roi6.png  \r\n",
      " extracting: segmentation/annotations/image038-roi6.png  \r\n",
      " extracting: segmentation/annotations/image058-roi6.png  \r\n",
      " extracting: segmentation/annotations/image050-roi3.png  \r\n",
      " extracting: segmentation/annotations/image032-roi1.png  \r\n",
      "   creating: segmentation/images/\r\n",
      "  inflating: segmentation/images/image005-roi4.jpg  \r\n",
      "  inflating: segmentation/images/image021-roi4.jpg  \r\n",
      "  inflating: segmentation/images/image021-roi5.jpg  \r\n",
      "  inflating: segmentation/images/image006-2-roi3.jpg  \r\n",
      "  inflating: segmentation/images/image058-roi4.jpg  \r\n",
      "  inflating: segmentation/images/image005-2-roi3.jpg  \r\n",
      "  inflating: segmentation/images/image006-roi5.jpg  \r\n",
      "  inflating: segmentation/images/image058-roi5.jpg  \r\n",
      "  inflating: segmentation/images/image032-roi1.jpg  \r\n",
      "  inflating: segmentation/images/image024-roi4.jpg  \r\n",
      "  inflating: segmentation/images/image058-roi7.jpg  \r\n",
      "  inflating: segmentation/images/image005-roi3.jpg  \r\n",
      "  inflating: segmentation/images/image023-roi3.jpg  \r\n",
      "  inflating: segmentation/images/image062-roi2.jpg  \r\n",
      "  inflating: segmentation/images/image020-roi3.jpg  \r\n",
      "  inflating: segmentation/images/image004-roi1.jpg  \r\n",
      "  inflating: segmentation/images/image022-roi1.jpg  \r\n",
      "  inflating: segmentation/images/image020-roi1.jpg  \r\n",
      "  inflating: segmentation/images/image018-roi2.jpg  \r\n",
      "  inflating: segmentation/images/image019-roi5.jpg  \r\n",
      "  inflating: segmentation/images/image039-roi3.jpg  \r\n",
      "  inflating: segmentation/images/image020-roi5.jpg  \r\n",
      "  inflating: segmentation/images/image033-roi2.jpg  \r\n",
      "  inflating: segmentation/images/image039-roi1.jpg  \r\n",
      "  inflating: segmentation/images/image006-roi1.jpg  \r\n",
      "  inflating: segmentation/images/image021-roi1.jpg  \r\n",
      "  inflating: segmentation/images/image029-roi4.jpg  \r\n",
      "  inflating: segmentation/images/image021-roi2.jpg  \r\n",
      "  inflating: segmentation/images/image058-roi2.jpg  \r\n",
      "  inflating: segmentation/images/image017-roi3.jpg  \r\n",
      "  inflating: segmentation/images/image029-roi2.jpg  \r\n",
      "  inflating: segmentation/images/image005-2-roi2.jpg  \r\n",
      "  inflating: segmentation/images/image061-roi3.jpg  \r\n",
      "  inflating: segmentation/images/image017-roi2.jpg  \r\n",
      "  inflating: segmentation/images/image019-roi3.jpg  \r\n",
      "  inflating: segmentation/images/image006-roi3.jpg  \r\n",
      "  inflating: segmentation/images/image018-roi3.jpg  \r\n",
      "  inflating: segmentation/images/image021-roi3.jpg  \r\n",
      "  inflating: segmentation/images/image018-roi4.jpg  \r\n",
      "  inflating: segmentation/images/image006-roi2.jpg  \r\n",
      "  inflating: segmentation/images/image034-roi2.jpg  \r\n",
      "  inflating: segmentation/images/image019-roi6.jpg  \r\n",
      "  inflating: segmentation/images/image008-roi4.jpg  \r\n",
      "  inflating: segmentation/images/image004-roi2.jpg  \r\n",
      "  inflating: segmentation/images/image043-roi1.jpg  \r\n",
      "  inflating: segmentation/images/image005-2-roi1.jpg  \r\n",
      "  inflating: segmentation/images/image004-roi5.jpg  \r\n",
      "  inflating: segmentation/images/image024-roi1.jpg  \r\n",
      "  inflating: segmentation/images/image021-roi6.jpg  \r\n",
      "  inflating: segmentation/images/image018-roi6.jpg  \r\n",
      "  inflating: segmentation/images/image033-roi1.jpg  \r\n",
      "  inflating: segmentation/images/image037-roi6.jpg  \r\n",
      "  inflating: segmentation/images/image029-roi3.jpg  \r\n",
      "  inflating: segmentation/images/image006-2-roi4.jpg  \r\n",
      "  inflating: segmentation/images/image024-roi6.jpg  \r\n",
      "  inflating: segmentation/images/image029-roi1.jpg  \r\n",
      "  inflating: segmentation/images/image061-roi1.jpg  \r\n",
      "  inflating: segmentation/images/image038-roi5.jpg  \r\n",
      "  inflating: segmentation/images/image017-roi1.jpg  \r\n",
      "  inflating: segmentation/images/image032-roi3.jpg  \r\n",
      "  inflating: segmentation/images/image037-roi3.jpg  \r\n",
      "  inflating: segmentation/images/image038-roi2.jpg  \r\n",
      "  inflating: segmentation/images/image018-roi5.jpg  \r\n",
      "  inflating: segmentation/images/image050-roi3.jpg  \r\n",
      "  inflating: segmentation/images/image058-roi1.jpg  \r\n",
      "  inflating: segmentation/images/image006-2-roi1.jpg  \r\n",
      "  inflating: segmentation/images/image006-2-roi2.jpg  \r\n",
      "  inflating: segmentation/images/image062-roi1.jpg  \r\n",
      "  inflating: segmentation/images/image020-roi2.jpg  \r\n",
      "  inflating: segmentation/images/image018-roi7.jpg  \r\n",
      "  inflating: segmentation/images/image018-roi8.jpg  \r\n",
      "  inflating: segmentation/images/image061-roi2.jpg  \r\n",
      "  inflating: segmentation/images/image003-2-roi4.jpg  \r\n",
      "  inflating: segmentation/images/image050-roi5.jpg  \r\n",
      "  inflating: segmentation/images/image024-roi3.jpg  \r\n",
      "  inflating: segmentation/images/image023-roi2.jpg  \r\n",
      "  inflating: segmentation/images/image043-roi3.jpg  \r\n",
      "  inflating: segmentation/images/image058-roi3.jpg  \r\n",
      "  inflating: segmentation/images/image037-roi7.jpg  \r\n",
      "  inflating: segmentation/images/image008-roi2.jpg  \r\n",
      "  inflating: segmentation/images/image032-roi2.jpg  \r\n",
      "  inflating: segmentation/images/image005-roi1.jpg  \r\n",
      "  inflating: segmentation/images/image038-roi6.jpg  \r\n",
      "  inflating: segmentation/images/image003-2-roi5.jpg  \r\n",
      "  inflating: segmentation/images/image023-roi1.jpg  \r\n",
      "  inflating: segmentation/images/image020-roi4.jpg  \r\n",
      "  inflating: segmentation/images/image006-roi4.jpg  \r\n",
      "  inflating: segmentation/images/image003-2-roi1.jpg  \r\n",
      "  inflating: segmentation/images/image005-2-roi4.jpg  \r\n",
      "  inflating: segmentation/images/image043-roi4.jpg  \r\n",
      "  inflating: segmentation/images/image050-roi4.jpg  \r\n",
      "  inflating: segmentation/images/image019-roi1.jpg  \r\n",
      "  inflating: segmentation/images/image038-roi3.jpg  \r\n",
      "  inflating: segmentation/images/image039-roi2.jpg  \r\n",
      "  inflating: segmentation/images/image034-roi1.jpg  \r\n",
      "  inflating: segmentation/images/image024-roi5.jpg  \r\n",
      "  inflating: segmentation/images/image023-roi4.jpg  \r\n",
      "  inflating: segmentation/images/image037-roi4.jpg  \r\n",
      "  inflating: segmentation/images/image038-roi4.jpg  \r\n",
      "  inflating: segmentation/images/image019-roi4.jpg  \r\n",
      "  inflating: segmentation/images/image003-2-roi2.jpg  \r\n",
      "  inflating: segmentation/images/image008-roi1.jpg  \r\n",
      "  inflating: segmentation/images/image058-roi8.jpg  \r\n",
      "  inflating: segmentation/images/image050-roi1.jpg  \r\n",
      "  inflating: segmentation/images/image019-roi2.jpg  \r\n",
      "  inflating: segmentation/images/image003-2-roi3.jpg  \r\n",
      "  inflating: segmentation/images/image005-roi2.jpg  \r\n",
      "  inflating: segmentation/images/image037-roi5.jpg  \r\n",
      "  inflating: segmentation/images/image061-roi5.jpg  \r\n",
      "  inflating: segmentation/images/image043-roi2.jpg  \r\n",
      "  inflating: segmentation/images/image032-roi4.jpg  \r\n",
      "  inflating: segmentation/images/image058-roi6.jpg  \r\n",
      "  inflating: segmentation/images/image024-roi2.jpg  \r\n",
      "  inflating: segmentation/images/image008-roi3.jpg  \r\n",
      "  inflating: segmentation/images/image038-roi1.jpg  \r\n",
      "  inflating: segmentation/images/image037-roi2.jpg  \r\n",
      "  inflating: segmentation/images/image004-roi3.jpg  \r\n",
      "  inflating: segmentation/images/image050-roi2.jpg  \r\n",
      "  inflating: segmentation/images/image061-roi4.jpg  \r\n",
      "  inflating: segmentation/images/image004-roi4.jpg  \r\n"
     ]
    }
   ],
   "source": [
    "!unzip ../segmentationV3.zip"
   ]
  },
  {
   "cell_type": "code",
   "execution_count": 5,
   "id": "24aaf774",
   "metadata": {
    "id": "24aaf774"
   },
   "outputs": [],
   "source": [
    "data_root = 'segmentation'\n",
    "img_dir = 'images'\n",
    "ann_dir = 'annotations'"
   ]
  },
  {
   "cell_type": "code",
   "execution_count": 6,
   "id": "443efdad",
   "metadata": {
    "id": "443efdad"
   },
   "outputs": [],
   "source": [
    "classes = ('bg', 'cell')\n",
    "palette = [[0, 0, 0], [255, 255, 255]]"
   ]
  },
  {
   "cell_type": "code",
   "execution_count": 7,
   "id": "cf908c98",
   "metadata": {
    "colab": {
     "base_uri": "https://localhost:8080/",
     "height": 299
    },
    "id": "cf908c98",
    "outputId": "f88a9c40-16ad-4981-fd87-fd689a9ae568"
   },
   "outputs": [
    {
     "data": {
      "image/png": "[encoded data removed]",
      "text/plain": [
       "<Figure size 576x432 with 1 Axes>"
      ]
     },
     "metadata": {
      "needs_background": "light"
     },
     "output_type": "display_data"
    }
   ],
   "source": [
    "# Let's take a look at the segmentation map we got\n",
    "\n",
    "img = Image.open('segmentation/annotations/image003-2-roi1.png')\n",
    "plt.figure(figsize=(8, 6))\n",
    "im = plt.imshow(np.array(img))\n",
    "\n",
    "# create a patch (proxy artist) for every color \n",
    "patches = [mpatches.Patch(color=np.array(palette[i])/255., \n",
    "                          label=classes[i]) for i in range(2)]\n",
    "# put those patched as legend-handles into the legend\n",
    "plt.legend(handles=patches, bbox_to_anchor=(1.05, 1), loc=2, borderaxespad=0., \n",
    "           fontsize='large')\n",
    "\n",
    "plt.show()"
   ]
  },
  {
   "cell_type": "code",
   "execution_count": 8,
   "id": "e418cf76",
   "metadata": {
    "id": "e418cf76"
   },
   "outputs": [],
   "source": [
    "# split train/val set randomly\n",
    "split_dir = 'splits'\n",
    "mmcv.mkdir_or_exist(osp.join(data_root, split_dir))\n",
    "filename_list = [osp.splitext(filename)[0] for filename in mmcv.scandir(osp.join(data_root, ann_dir), suffix='.png')]\n",
    "with open(osp.join(data_root, split_dir, 'train.txt'), 'w') as f:\n",
    "    # select first 4/5 as train set\n",
    "    train_length = int(len(filename_list)*4/5)\n",
    "    f.writelines(line + '\\n' for line in filename_list[:train_length])\n",
    "with open(osp.join(data_root, split_dir, 'val.txt'), 'w') as f:\n",
    "    # select last 1/5 as train set\n",
    "    f.writelines(line + '\\n' for line in filename_list[train_length:])"
   ]
  },
  {
   "cell_type": "code",
   "execution_count": 9,
   "id": "b96138cd",
   "metadata": {
    "id": "b96138cd"
   },
   "outputs": [],
   "source": [
    "@DATASETS.register_module()\n",
    "class TestDataSetResize(CustomDataset):\n",
    "    CLASSES = classes\n",
    "    PALETTE = palette\n",
    "    def __init__(self, split, **kwargs):\n",
    "        super().__init__(img_suffix='.jpg', seg_map_suffix='.png', split=split, **kwargs)\n",
    "        assert osp.exists(self.img_dir) and self.split is not None"
   ]
  },
  {
   "cell_type": "code",
   "execution_count": 14,
   "id": "9b26b02a",
   "metadata": {
    "id": "9b26b02a"
   },
   "outputs": [],
   "source": [
    "cfg = Config.fromfile('configs/pspnet/pspnet_r50-d8_512x1024_40k_cityscapes.py')"
   ]
  },
  {
   "cell_type": "code",
   "execution_count": 15,
   "id": "ddc4bcf0",
   "metadata": {
    "colab": {
     "base_uri": "https://localhost:8080/"
    },
    "id": "ddc4bcf0",
    "outputId": "9bdff622-a882-4b77-dc59-4b3cf697ca78"
   },
   "outputs": [
    {
     "name": "stdout",
     "output_type": "stream",
     "text": [
      "Config:\n",
      "norm_cfg = dict(type='BN', requires_grad=True)\n",
      "model = dict(\n",
      "    type='EncoderDecoder',\n",
      "    pretrained='open-mmlab://resnet50_v1c',\n",
      "    backbone=dict(\n",
      "        type='ResNetV1c',\n",
      "        depth=50,\n",
      "        num_stages=4,\n",
      "        out_indices=(0, 1, 2, 3),\n",
      "        dilations=(1, 1, 2, 4),\n",
      "        strides=(1, 2, 1, 1),\n",
      "        norm_cfg=dict(type='BN', requires_grad=True),\n",
      "        norm_eval=False,\n",
      "        style='pytorch',\n",
      "        contract_dilation=True),\n",
      "    decode_head=dict(\n",
      "        type='PSPHead',\n",
      "        in_channels=2048,\n",
      "        in_index=3,\n",
      "        channels=512,\n",
      "        pool_scales=(1, 2, 3, 6),\n",
      "        dropout_ratio=0.1,\n",
      "        num_classes=2,\n",
      "        norm_cfg=dict(type='BN', requires_grad=True),\n",
      "        align_corners=False,\n",
      "        loss_decode=dict(\n",
      "            type='CrossEntropyLoss', use_sigmoid=False, loss_weight=1.0)),\n",
      "    auxiliary_head=dict(\n",
      "        type='FCNHead',\n",
      "        in_channels=1024,\n",
      "        in_index=2,\n",
      "        channels=256,\n",
      "        num_convs=1,\n",
      "        concat_input=False,\n",
      "        dropout_ratio=0.1,\n",
      "        num_classes=2,\n",
      "        norm_cfg=dict(type='BN', requires_grad=True),\n",
      "        align_corners=False,\n",
      "        loss_decode=dict(\n",
      "            type='CrossEntropyLoss', use_sigmoid=False, loss_weight=0.4)),\n",
      "    train_cfg=dict(),\n",
      "    test_cfg=dict(mode='whole'))\n",
      "dataset_type = 'TestDataSetResize'\n",
      "data_root = 'segmentation'\n",
      "img_norm_cfg = dict(\n",
      "    mean=[123.675, 116.28, 103.53], std=[58.395, 57.12, 57.375], to_rgb=True)\n",
      "crop_size = (256, 256)\n",
      "train_pipeline = [\n",
      "    dict(type='LoadImageFromFile'),\n",
      "    dict(type='LoadAnnotations'),\n",
      "    dict(type='Resize', img_scale=(320, 240), ratio_range=(0.5, 2.0)),\n",
      "    dict(type='RandomCrop', crop_size=(256, 256), cat_max_ratio=0.75),\n",
      "    dict(type='RandomFlip', flip_ratio=0.5),\n",
      "    dict(type='PhotoMetricDistortion'),\n",
      "    dict(\n",
      "        type='Normalize',\n",
      "        mean=[123.675, 116.28, 103.53],\n",
      "        std=[58.395, 57.12, 57.375],\n",
      "        to_rgb=True),\n",
      "    dict(type='Pad', size=(256, 256), pad_val=0, seg_pad_val=255),\n",
      "    dict(type='DefaultFormatBundle'),\n",
      "    dict(type='Collect', keys=['img', 'gt_semantic_seg'])\n",
      "]\n",
      "test_pipeline = [\n",
      "    dict(type='LoadImageFromFile'),\n",
      "    dict(\n",
      "        type='MultiScaleFlipAug',\n",
      "        img_scale=(320, 240),\n",
      "        flip=False,\n",
      "        transforms=[\n",
      "            dict(type='Resize', keep_ratio=True),\n",
      "            dict(type='RandomFlip'),\n",
      "            dict(\n",
      "                type='Normalize',\n",
      "                mean=[123.675, 116.28, 103.53],\n",
      "                std=[58.395, 57.12, 57.375],\n",
      "                to_rgb=True),\n",
      "            dict(type='ImageToTensor', keys=['img']),\n",
      "            dict(type='Collect', keys=['img'])\n",
      "        ])\n",
      "]\n",
      "data = dict(\n",
      "    samples_per_gpu=8,\n",
      "    workers_per_gpu=4,\n",
      "    train=dict(\n",
      "        type='TestDataSetResize',\n",
      "        data_root='segmentation',\n",
      "        img_dir='images',\n",
      "        ann_dir='annotations',\n",
      "        pipeline=[\n",
      "            dict(type='LoadImageFromFile'),\n",
      "            dict(type='LoadAnnotations'),\n",
      "            dict(type='Resize', img_scale=(320, 240), ratio_range=(0.5, 2.0)),\n",
      "            dict(type='RandomCrop', crop_size=(256, 256), cat_max_ratio=0.75),\n",
      "            dict(type='RandomFlip', flip_ratio=0.5),\n",
      "            dict(type='PhotoMetricDistortion'),\n",
      "            dict(\n",
      "                type='Normalize',\n",
      "                mean=[123.675, 116.28, 103.53],\n",
      "                std=[58.395, 57.12, 57.375],\n",
      "                to_rgb=True),\n",
      "            dict(type='Pad', size=(256, 256), pad_val=0, seg_pad_val=255),\n",
      "            dict(type='DefaultFormatBundle'),\n",
      "            dict(type='Collect', keys=['img', 'gt_semantic_seg'])\n",
      "        ],\n",
      "        split='splits/train.txt'),\n",
      "    val=dict(\n",
      "        type='TestDataSetResize',\n",
      "        data_root='segmentation',\n",
      "        img_dir='images',\n",
      "        ann_dir='annotations',\n",
      "        pipeline=[\n",
      "            dict(type='LoadImageFromFile'),\n",
      "            dict(\n",
      "                type='MultiScaleFlipAug',\n",
      "                img_scale=(320, 240),\n",
      "                flip=False,\n",
      "                transforms=[\n",
      "                    dict(type='Resize', keep_ratio=True),\n",
      "                    dict(type='RandomFlip'),\n",
      "                    dict(\n",
      "                        type='Normalize',\n",
      "                        mean=[123.675, 116.28, 103.53],\n",
      "                        std=[58.395, 57.12, 57.375],\n",
      "                        to_rgb=True),\n",
      "                    dict(type='ImageToTensor', keys=['img']),\n",
      "                    dict(type='Collect', keys=['img'])\n",
      "                ])\n",
      "        ],\n",
      "        split='splits/val.txt'),\n",
      "    test=dict(\n",
      "        type='TestDataSetResize',\n",
      "        data_root='segmentation',\n",
      "        img_dir='images',\n",
      "        ann_dir='annotations',\n",
      "        pipeline=[\n",
      "            dict(type='LoadImageFromFile'),\n",
      "            dict(\n",
      "                type='MultiScaleFlipAug',\n",
      "                img_scale=(320, 240),\n",
      "                flip=False,\n",
      "                transforms=[\n",
      "                    dict(type='Resize', keep_ratio=True),\n",
      "                    dict(type='RandomFlip'),\n",
      "                    dict(\n",
      "                        type='Normalize',\n",
      "                        mean=[123.675, 116.28, 103.53],\n",
      "                        std=[58.395, 57.12, 57.375],\n",
      "                        to_rgb=True),\n",
      "                    dict(type='ImageToTensor', keys=['img']),\n",
      "                    dict(type='Collect', keys=['img'])\n",
      "                ])\n",
      "        ],\n",
      "        split='splits/val.txt'))\n",
      "log_config = dict(\n",
      "    interval=10, hooks=[dict(type='TextLoggerHook', by_epoch=False)])\n",
      "dist_params = dict(backend='nccl')\n",
      "log_level = 'INFO'\n",
      "load_from = None\n",
      "resume_from = None\n",
      "workflow = [('train', 1)]\n",
      "cudnn_benchmark = True\n",
      "optimizer = dict(type='SGD', lr=0.01, momentum=0.9, weight_decay=0.0005)\n",
      "optimizer_config = dict()\n",
      "lr_config = dict(policy='poly', power=0.9, min_lr=0.0001, by_epoch=False)\n",
      "runner = dict(type='IterBasedRunner', max_iters=400)\n",
      "checkpoint_config = dict(by_epoch=False, interval=200)\n",
      "evaluation = dict(interval=200, metric='mIoU', pre_eval=True)\n",
      "work_dir = './work_dirs/tutorial'\n",
      "seed = 0\n",
      "gpu_ids = range(0, 1)\n",
      "\n"
     ]
    }
   ],
   "source": [
    "# Since we use ony one GPU, BN is used instead of SyncBN\n",
    "cfg.norm_cfg = dict(type='BN', requires_grad=True)\n",
    "cfg.model.backbone.norm_cfg = cfg.norm_cfg\n",
    "cfg.model.decode_head.norm_cfg = cfg.norm_cfg\n",
    "cfg.model.auxiliary_head.norm_cfg = cfg.norm_cfg\n",
    "# modify num classes of the model in decode/auxiliary head\n",
    "cfg.model.decode_head.num_classes = 2\n",
    "cfg.model.auxiliary_head.num_classes = 2\n",
    "\n",
    "# Modify dataset type and path\n",
    "cfg.dataset_type = 'TestDataSetResize'\n",
    "cfg.data_root = data_root\n",
    "\n",
    "cfg.data.samples_per_gpu = 8\n",
    "cfg.data.workers_per_gpu = 4\n",
    "\n",
    "cfg.img_norm_cfg = dict(\n",
    "    mean=[123.675, 116.28, 103.53], std=[58.395, 57.12, 57.375], to_rgb=True)\n",
    "cfg.crop_size = (256, 256)\n",
    "cfg.train_pipeline = [\n",
    "    dict(type='LoadImageFromFile'),\n",
    "    dict(type='LoadAnnotations'),\n",
    "    dict(type='Resize', img_scale=(320, 240), ratio_range=(0.5, 2.0)),\n",
    "    dict(type='RandomCrop', crop_size=cfg.crop_size, cat_max_ratio=0.75),\n",
    "    dict(type='RandomFlip', flip_ratio=0.5),\n",
    "    dict(type='PhotoMetricDistortion'),\n",
    "    dict(type='Normalize', **cfg.img_norm_cfg),\n",
    "    dict(type='Pad', size=cfg.crop_size, pad_val=0, seg_pad_val=255),\n",
    "    dict(type='DefaultFormatBundle'),\n",
    "    dict(type='Collect', keys=['img', 'gt_semantic_seg']),\n",
    "]\n",
    "\n",
    "cfg.test_pipeline = [\n",
    "    dict(type='LoadImageFromFile'),\n",
    "    dict(\n",
    "        type='MultiScaleFlipAug',\n",
    "        img_scale=(320, 240),\n",
    "        # img_ratios=[0.5, 0.75, 1.0, 1.25, 1.5, 1.75],\n",
    "        flip=False,\n",
    "        transforms=[\n",
    "            dict(type='Resize', keep_ratio=True),\n",
    "            dict(type='RandomFlip'),\n",
    "            dict(type='Normalize', **cfg.img_norm_cfg),\n",
    "            dict(type='ImageToTensor', keys=['img']),\n",
    "            dict(type='Collect', keys=['img']),\n",
    "        ])\n",
    "]\n",
    "\n",
    "\n",
    "cfg.data.train.type = cfg.dataset_type\n",
    "cfg.data.train.data_root = cfg.data_root\n",
    "cfg.data.train.img_dir = img_dir\n",
    "cfg.data.train.ann_dir = ann_dir\n",
    "cfg.data.train.pipeline = cfg.train_pipeline\n",
    "cfg.data.train.split = 'splits/train.txt'\n",
    "\n",
    "cfg.data.val.type = cfg.dataset_type\n",
    "cfg.data.val.data_root = cfg.data_root\n",
    "cfg.data.val.img_dir = img_dir\n",
    "cfg.data.val.ann_dir = ann_dir\n",
    "cfg.data.val.pipeline = cfg.test_pipeline\n",
    "cfg.data.val.split = 'splits/val.txt'\n",
    "\n",
    "cfg.data.test.type = cfg.dataset_type\n",
    "cfg.data.test.data_root = cfg.data_root\n",
    "cfg.data.test.img_dir = img_dir\n",
    "cfg.data.test.ann_dir = ann_dir\n",
    "cfg.data.test.pipeline = cfg.test_pipeline\n",
    "cfg.data.test.split = 'splits/val.txt'\n",
    "\n",
    "# Set up working dir to save files and logs.\n",
    "cfg.work_dir = './work_dirs/tutorial'\n",
    "\n",
    "cfg.runner.max_iters = 400\n",
    "cfg.log_config.interval = 10\n",
    "cfg.evaluation.interval = 200\n",
    "cfg.checkpoint_config.interval = 200\n",
    "\n",
    "# Set seed to facitate reproducing the result\n",
    "cfg.seed = 0\n",
    "set_random_seed(0, deterministic=False)\n",
    "cfg.gpu_ids = range(1)\n",
    "\n",
    "# Let's have a look at the final config used for training\n",
    "print(f'Config:\\n{cfg.pretty_text}')"
   ]
  },
  {
   "cell_type": "code",
   "execution_count": 16,
   "id": "932fee98",
   "metadata": {
    "colab": {
     "base_uri": "https://localhost:8080/"
    },
    "id": "932fee98",
    "outputId": "98155816-ee1a-4afc-99b3-1c937f7a4aab"
   },
   "outputs": [
    {
     "name": "stderr",
     "output_type": "stream",
     "text": [
      "2022-01-12 19:42:26,562 - mmseg - INFO - Loaded 96 images\n"
     ]
    }
   ],
   "source": [
    "datasets = [build_dataset(cfg.data.train)]"
   ]
  },
  {
   "cell_type": "code",
   "execution_count": 17,
   "id": "e187a43a",
   "metadata": {},
   "outputs": [
    {
     "name": "stderr",
     "output_type": "stream",
     "text": [
      "Clipping input data to the valid range for imshow with RGB data ([0..1] for floats or [0..255] for integers).\n"
     ]
    },
    {
     "data": {
      "text/plain": [
       "<matplotlib.image.AxesImage at 0x7f590b0a1b80>"
      ]
     },
     "execution_count": 17,
     "metadata": {},
     "output_type": "execute_result"
    },
    {
     "data": {
      "image/png": "[encoded data removed]",
      "text/plain": [
       "<Figure size 432x288 with 1 Axes>"
      ]
     },
     "metadata": {
      "needs_background": "light"
     },
     "output_type": "display_data"
    }
   ],
   "source": [
    "img = datasets[0].__getitem__(0)['img']\n",
    "plt.imshow(img.data.cpu().permute(1, 2, 0).numpy())"
   ]
  },
  {
   "cell_type": "code",
   "execution_count": 18,
   "id": "e740d93b",
   "metadata": {
    "colab": {
     "base_uri": "https://localhost:8080/"
    },
    "id": "e740d93b",
    "outputId": "b5c879c6-f490-42ad-a32d-8b14f08313d4"
   },
   "outputs": [
    {
     "name": "stderr",
     "output_type": "stream",
     "text": [
      "/home/neto/projects/tcc/mmsegmentation/mmseg/models/backbones/resnet.py:431: UserWarning: DeprecationWarning: pretrained is a deprecated, please use \"init_cfg\" instead\n",
      "  warnings.warn('DeprecationWarning: pretrained is a deprecated, '\n"
     ]
    }
   ],
   "source": [
    "# Build the detector\n",
    "model = build_segmentor(\n",
    "    cfg.model, train_cfg=cfg.get('train_cfg'), test_cfg=cfg.get('test_cfg'))\n",
    "# Add an attribute for visualization convenience\n",
    "model.CLASSES = datasets[0].CLASSES"
   ]
  },
  {
   "cell_type": "code",
   "execution_count": 19,
   "id": "7af36ee7",
   "metadata": {
    "colab": {
     "base_uri": "https://localhost:8080/"
    },
    "id": "7af36ee7",
    "outputId": "0ae8cf36-3a1e-4966-965a-fe63bd24a2c8"
   },
   "outputs": [
    {
     "name": "stderr",
     "output_type": "stream",
     "text": [
      "2022-01-12 19:42:34,538 - mmseg - INFO - Loaded 24 images\n",
      "2022-01-12 19:42:34,539 - mmseg - INFO - Start running, host: neto@Matheus-Neto, work_dir: /home/neto/projects/tcc/mmsegmentation/work_dirs/tutorial\n",
      "2022-01-12 19:42:34,539 - mmseg - INFO - Hooks will be executed in the following order:\n",
      "before_run:\n",
      "(VERY_HIGH   ) PolyLrUpdaterHook                  \n",
      "(NORMAL      ) CheckpointHook                     \n",
      "(LOW         ) EvalHook                           \n",
      "(VERY_LOW    ) TextLoggerHook                     \n",
      " -------------------- \n",
      "before_train_epoch:\n",
      "(VERY_HIGH   ) PolyLrUpdaterHook                  \n",
      "(LOW         ) IterTimerHook                      \n",
      "(LOW         ) EvalHook                           \n",
      "(VERY_LOW    ) TextLoggerHook                     \n",
      " -------------------- \n",
      "before_train_iter:\n",
      "(VERY_HIGH   ) PolyLrUpdaterHook                  \n",
      "(LOW         ) IterTimerHook                      \n",
      "(LOW         ) EvalHook                           \n",
      " -------------------- \n",
      "after_train_iter:\n",
      "(ABOVE_NORMAL) OptimizerHook                      \n",
      "(NORMAL      ) CheckpointHook                     \n",
      "(LOW         ) IterTimerHook                      \n",
      "(LOW         ) EvalHook                           \n",
      "(VERY_LOW    ) TextLoggerHook                     \n",
      " -------------------- \n",
      "after_train_epoch:\n",
      "(NORMAL      ) CheckpointHook                     \n",
      "(LOW         ) EvalHook                           \n",
      "(VERY_LOW    ) TextLoggerHook                     \n",
      " -------------------- \n",
      "before_val_epoch:\n",
      "(LOW         ) IterTimerHook                      \n",
      "(VERY_LOW    ) TextLoggerHook                     \n",
      " -------------------- \n",
      "before_val_iter:\n",
      "(LOW         ) IterTimerHook                      \n",
      " -------------------- \n",
      "after_val_iter:\n",
      "(LOW         ) IterTimerHook                      \n",
      " -------------------- \n",
      "after_val_epoch:\n",
      "(VERY_LOW    ) TextLoggerHook                     \n",
      " -------------------- \n",
      "after_run:\n",
      "(VERY_LOW    ) TextLoggerHook                     \n",
      " -------------------- \n",
      "2022-01-12 19:42:34,540 - mmseg - INFO - workflow: [('train', 1)], max: 400 iters\n",
      "2022-01-12 19:42:34,540 - mmseg - INFO - Checkpoints will be saved to /home/neto/projects/tcc/mmsegmentation/work_dirs/tutorial by HardDiskBackend.\n"
     ]
    },
    {
     "ename": "RuntimeError",
     "evalue": "CUDA out of memory. Tried to allocate 128.00 MiB (GPU 0; 3.94 GiB total capacity; 2.64 GiB already allocated; 148.75 MiB free; 2.78 GiB reserved in total by PyTorch)",
     "output_type": "error",
     "traceback": [
      "\u001b[0;31m---------------------------------------------------------------------------\u001b[0m",
      "\u001b[0;31mRuntimeError\u001b[0m                              Traceback (most recent call last)",
      "\u001b[0;32m/tmp/ipykernel_14428/2442845926.py\u001b[0m in \u001b[0;36m<module>\u001b[0;34m\u001b[0m\n\u001b[1;32m      1\u001b[0m \u001b[0;31m# Create work_dir\u001b[0m\u001b[0;34m\u001b[0m\u001b[0;34m\u001b[0m\u001b[0m\n\u001b[1;32m      2\u001b[0m \u001b[0mmmcv\u001b[0m\u001b[0;34m.\u001b[0m\u001b[0mmkdir_or_exist\u001b[0m\u001b[0;34m(\u001b[0m\u001b[0mosp\u001b[0m\u001b[0;34m.\u001b[0m\u001b[0mabspath\u001b[0m\u001b[0;34m(\u001b[0m\u001b[0mcfg\u001b[0m\u001b[0;34m.\u001b[0m\u001b[0mwork_dir\u001b[0m\u001b[0;34m)\u001b[0m\u001b[0;34m)\u001b[0m\u001b[0;34m\u001b[0m\u001b[0;34m\u001b[0m\u001b[0m\n\u001b[0;32m----> 3\u001b[0;31m \u001b[0mtrain_segmentor\u001b[0m\u001b[0;34m(\u001b[0m\u001b[0mmodel\u001b[0m\u001b[0;34m,\u001b[0m \u001b[0mdatasets\u001b[0m\u001b[0;34m,\u001b[0m \u001b[0mcfg\u001b[0m\u001b[0;34m,\u001b[0m \u001b[0mdistributed\u001b[0m\u001b[0;34m=\u001b[0m\u001b[0;32mFalse\u001b[0m\u001b[0;34m,\u001b[0m \u001b[0mvalidate\u001b[0m\u001b[0;34m=\u001b[0m\u001b[0;32mTrue\u001b[0m\u001b[0;34m,\u001b[0m \u001b[0mmeta\u001b[0m\u001b[0;34m=\u001b[0m\u001b[0mdict\u001b[0m\u001b[0;34m(\u001b[0m\u001b[0;34m)\u001b[0m\u001b[0;34m)\u001b[0m\u001b[0;34m\u001b[0m\u001b[0;34m\u001b[0m\u001b[0m\n\u001b[0m",
      "\u001b[0;32m~/projects/tcc/mmsegmentation/mmseg/apis/train.py\u001b[0m in \u001b[0;36mtrain_segmentor\u001b[0;34m(model, dataset, cfg, distributed, validate, timestamp, meta)\u001b[0m\n\u001b[1;32m    169\u001b[0m     \u001b[0;32melif\u001b[0m \u001b[0mcfg\u001b[0m\u001b[0;34m.\u001b[0m\u001b[0mload_from\u001b[0m\u001b[0;34m:\u001b[0m\u001b[0;34m\u001b[0m\u001b[0;34m\u001b[0m\u001b[0m\n\u001b[1;32m    170\u001b[0m         \u001b[0mrunner\u001b[0m\u001b[0;34m.\u001b[0m\u001b[0mload_checkpoint\u001b[0m\u001b[0;34m(\u001b[0m\u001b[0mcfg\u001b[0m\u001b[0;34m.\u001b[0m\u001b[0mload_from\u001b[0m\u001b[0;34m)\u001b[0m\u001b[0;34m\u001b[0m\u001b[0;34m\u001b[0m\u001b[0m\n\u001b[0;32m--> 171\u001b[0;31m     \u001b[0mrunner\u001b[0m\u001b[0;34m.\u001b[0m\u001b[0mrun\u001b[0m\u001b[0;34m(\u001b[0m\u001b[0mdata_loaders\u001b[0m\u001b[0;34m,\u001b[0m \u001b[0mcfg\u001b[0m\u001b[0;34m.\u001b[0m\u001b[0mworkflow\u001b[0m\u001b[0;34m)\u001b[0m\u001b[0;34m\u001b[0m\u001b[0;34m\u001b[0m\u001b[0m\n\u001b[0m",
      "\u001b[0;32m~/anaconda3/envs/torch_gpu/lib/python3.9/site-packages/mmcv/runner/iter_based_runner.py\u001b[0m in \u001b[0;36mrun\u001b[0;34m(self, data_loaders, workflow, max_iters, **kwargs)\u001b[0m\n\u001b[1;32m    132\u001b[0m                     \u001b[0;32mif\u001b[0m \u001b[0mmode\u001b[0m \u001b[0;34m==\u001b[0m \u001b[0;34m'train'\u001b[0m \u001b[0;32mand\u001b[0m \u001b[0mself\u001b[0m\u001b[0;34m.\u001b[0m\u001b[0miter\u001b[0m \u001b[0;34m>=\u001b[0m \u001b[0mself\u001b[0m\u001b[0;34m.\u001b[0m\u001b[0m_max_iters\u001b[0m\u001b[0;34m:\u001b[0m\u001b[0;34m\u001b[0m\u001b[0;34m\u001b[0m\u001b[0m\n\u001b[1;32m    133\u001b[0m                         \u001b[0;32mbreak\u001b[0m\u001b[0;34m\u001b[0m\u001b[0;34m\u001b[0m\u001b[0m\n\u001b[0;32m--> 134\u001b[0;31m                     \u001b[0miter_runner\u001b[0m\u001b[0;34m(\u001b[0m\u001b[0miter_loaders\u001b[0m\u001b[0;34m[\u001b[0m\u001b[0mi\u001b[0m\u001b[0;34m]\u001b[0m\u001b[0;34m,\u001b[0m \u001b[0;34m**\u001b[0m\u001b[0mkwargs\u001b[0m\u001b[0;34m)\u001b[0m\u001b[0;34m\u001b[0m\u001b[0;34m\u001b[0m\u001b[0m\n\u001b[0m\u001b[1;32m    135\u001b[0m \u001b[0;34m\u001b[0m\u001b[0m\n\u001b[1;32m    136\u001b[0m         \u001b[0mtime\u001b[0m\u001b[0;34m.\u001b[0m\u001b[0msleep\u001b[0m\u001b[0;34m(\u001b[0m\u001b[0;36m1\u001b[0m\u001b[0;34m)\u001b[0m  \u001b[0;31m# wait for some hooks like loggers to finish\u001b[0m\u001b[0;34m\u001b[0m\u001b[0;34m\u001b[0m\u001b[0m\n",
      "\u001b[0;32m~/anaconda3/envs/torch_gpu/lib/python3.9/site-packages/mmcv/runner/iter_based_runner.py\u001b[0m in \u001b[0;36mtrain\u001b[0;34m(self, data_loader, **kwargs)\u001b[0m\n\u001b[1;32m     65\u001b[0m             \u001b[0mself\u001b[0m\u001b[0;34m.\u001b[0m\u001b[0mlog_buffer\u001b[0m\u001b[0;34m.\u001b[0m\u001b[0mupdate\u001b[0m\u001b[0;34m(\u001b[0m\u001b[0moutputs\u001b[0m\u001b[0;34m[\u001b[0m\u001b[0;34m'log_vars'\u001b[0m\u001b[0;34m]\u001b[0m\u001b[0;34m,\u001b[0m \u001b[0moutputs\u001b[0m\u001b[0;34m[\u001b[0m\u001b[0;34m'num_samples'\u001b[0m\u001b[0;34m]\u001b[0m\u001b[0;34m)\u001b[0m\u001b[0;34m\u001b[0m\u001b[0;34m\u001b[0m\u001b[0m\n\u001b[1;32m     66\u001b[0m         \u001b[0mself\u001b[0m\u001b[0;34m.\u001b[0m\u001b[0moutputs\u001b[0m \u001b[0;34m=\u001b[0m \u001b[0moutputs\u001b[0m\u001b[0;34m\u001b[0m\u001b[0;34m\u001b[0m\u001b[0m\n\u001b[0;32m---> 67\u001b[0;31m         \u001b[0mself\u001b[0m\u001b[0;34m.\u001b[0m\u001b[0mcall_hook\u001b[0m\u001b[0;34m(\u001b[0m\u001b[0;34m'after_train_iter'\u001b[0m\u001b[0;34m)\u001b[0m\u001b[0;34m\u001b[0m\u001b[0;34m\u001b[0m\u001b[0m\n\u001b[0m\u001b[1;32m     68\u001b[0m         \u001b[0mself\u001b[0m\u001b[0;34m.\u001b[0m\u001b[0m_inner_iter\u001b[0m \u001b[0;34m+=\u001b[0m \u001b[0;36m1\u001b[0m\u001b[0;34m\u001b[0m\u001b[0;34m\u001b[0m\u001b[0m\n\u001b[1;32m     69\u001b[0m         \u001b[0mself\u001b[0m\u001b[0;34m.\u001b[0m\u001b[0m_iter\u001b[0m \u001b[0;34m+=\u001b[0m \u001b[0;36m1\u001b[0m\u001b[0;34m\u001b[0m\u001b[0;34m\u001b[0m\u001b[0m\n",
      "\u001b[0;32m~/anaconda3/envs/torch_gpu/lib/python3.9/site-packages/mmcv/runner/base_runner.py\u001b[0m in \u001b[0;36mcall_hook\u001b[0;34m(self, fn_name)\u001b[0m\n\u001b[1;32m    305\u001b[0m         \"\"\"\n\u001b[1;32m    306\u001b[0m         \u001b[0;32mfor\u001b[0m \u001b[0mhook\u001b[0m \u001b[0;32min\u001b[0m \u001b[0mself\u001b[0m\u001b[0;34m.\u001b[0m\u001b[0m_hooks\u001b[0m\u001b[0;34m:\u001b[0m\u001b[0;34m\u001b[0m\u001b[0;34m\u001b[0m\u001b[0m\n\u001b[0;32m--> 307\u001b[0;31m             \u001b[0mgetattr\u001b[0m\u001b[0;34m(\u001b[0m\u001b[0mhook\u001b[0m\u001b[0;34m,\u001b[0m \u001b[0mfn_name\u001b[0m\u001b[0;34m)\u001b[0m\u001b[0;34m(\u001b[0m\u001b[0mself\u001b[0m\u001b[0;34m)\u001b[0m\u001b[0;34m\u001b[0m\u001b[0;34m\u001b[0m\u001b[0m\n\u001b[0m\u001b[1;32m    308\u001b[0m \u001b[0;34m\u001b[0m\u001b[0m\n\u001b[1;32m    309\u001b[0m     \u001b[0;32mdef\u001b[0m \u001b[0mget_hook_info\u001b[0m\u001b[0;34m(\u001b[0m\u001b[0mself\u001b[0m\u001b[0;34m)\u001b[0m\u001b[0;34m:\u001b[0m\u001b[0;34m\u001b[0m\u001b[0;34m\u001b[0m\u001b[0m\n",
      "\u001b[0;32m~/anaconda3/envs/torch_gpu/lib/python3.9/site-packages/mmcv/runner/hooks/optimizer.py\u001b[0m in \u001b[0;36mafter_train_iter\u001b[0;34m(self, runner)\u001b[0m\n\u001b[1;32m     54\u001b[0m         \u001b[0;32mif\u001b[0m \u001b[0mself\u001b[0m\u001b[0;34m.\u001b[0m\u001b[0mdetect_anomalous_params\u001b[0m\u001b[0;34m:\u001b[0m\u001b[0;34m\u001b[0m\u001b[0;34m\u001b[0m\u001b[0m\n\u001b[1;32m     55\u001b[0m             \u001b[0mself\u001b[0m\u001b[0;34m.\u001b[0m\u001b[0mdetect_anomalous_parameters\u001b[0m\u001b[0;34m(\u001b[0m\u001b[0mrunner\u001b[0m\u001b[0;34m.\u001b[0m\u001b[0moutputs\u001b[0m\u001b[0;34m[\u001b[0m\u001b[0;34m'loss'\u001b[0m\u001b[0;34m]\u001b[0m\u001b[0;34m,\u001b[0m \u001b[0mrunner\u001b[0m\u001b[0;34m)\u001b[0m\u001b[0;34m\u001b[0m\u001b[0;34m\u001b[0m\u001b[0m\n\u001b[0;32m---> 56\u001b[0;31m         \u001b[0mrunner\u001b[0m\u001b[0;34m.\u001b[0m\u001b[0moutputs\u001b[0m\u001b[0;34m[\u001b[0m\u001b[0;34m'loss'\u001b[0m\u001b[0;34m]\u001b[0m\u001b[0;34m.\u001b[0m\u001b[0mbackward\u001b[0m\u001b[0;34m(\u001b[0m\u001b[0;34m)\u001b[0m\u001b[0;34m\u001b[0m\u001b[0;34m\u001b[0m\u001b[0m\n\u001b[0m\u001b[1;32m     57\u001b[0m \u001b[0;34m\u001b[0m\u001b[0m\n\u001b[1;32m     58\u001b[0m         \u001b[0;32mif\u001b[0m \u001b[0mself\u001b[0m\u001b[0;34m.\u001b[0m\u001b[0mgrad_clip\u001b[0m \u001b[0;32mis\u001b[0m \u001b[0;32mnot\u001b[0m \u001b[0;32mNone\u001b[0m\u001b[0;34m:\u001b[0m\u001b[0;34m\u001b[0m\u001b[0;34m\u001b[0m\u001b[0m\n",
      "\u001b[0;32m~/anaconda3/envs/torch_gpu/lib/python3.9/site-packages/torch/tensor.py\u001b[0m in \u001b[0;36mbackward\u001b[0;34m(self, gradient, retain_graph, create_graph, inputs)\u001b[0m\n\u001b[1;32m    243\u001b[0m                 \u001b[0mcreate_graph\u001b[0m\u001b[0;34m=\u001b[0m\u001b[0mcreate_graph\u001b[0m\u001b[0;34m,\u001b[0m\u001b[0;34m\u001b[0m\u001b[0;34m\u001b[0m\u001b[0m\n\u001b[1;32m    244\u001b[0m                 inputs=inputs)\n\u001b[0;32m--> 245\u001b[0;31m         \u001b[0mtorch\u001b[0m\u001b[0;34m.\u001b[0m\u001b[0mautograd\u001b[0m\u001b[0;34m.\u001b[0m\u001b[0mbackward\u001b[0m\u001b[0;34m(\u001b[0m\u001b[0mself\u001b[0m\u001b[0;34m,\u001b[0m \u001b[0mgradient\u001b[0m\u001b[0;34m,\u001b[0m \u001b[0mretain_graph\u001b[0m\u001b[0;34m,\u001b[0m \u001b[0mcreate_graph\u001b[0m\u001b[0;34m,\u001b[0m \u001b[0minputs\u001b[0m\u001b[0;34m=\u001b[0m\u001b[0minputs\u001b[0m\u001b[0;34m)\u001b[0m\u001b[0;34m\u001b[0m\u001b[0;34m\u001b[0m\u001b[0m\n\u001b[0m\u001b[1;32m    246\u001b[0m \u001b[0;34m\u001b[0m\u001b[0m\n\u001b[1;32m    247\u001b[0m     \u001b[0;32mdef\u001b[0m \u001b[0mregister_hook\u001b[0m\u001b[0;34m(\u001b[0m\u001b[0mself\u001b[0m\u001b[0;34m,\u001b[0m \u001b[0mhook\u001b[0m\u001b[0;34m)\u001b[0m\u001b[0;34m:\u001b[0m\u001b[0;34m\u001b[0m\u001b[0;34m\u001b[0m\u001b[0m\n",
      "\u001b[0;32m~/anaconda3/envs/torch_gpu/lib/python3.9/site-packages/torch/autograd/__init__.py\u001b[0m in \u001b[0;36mbackward\u001b[0;34m(tensors, grad_tensors, retain_graph, create_graph, grad_variables, inputs)\u001b[0m\n\u001b[1;32m    143\u001b[0m         \u001b[0mretain_graph\u001b[0m \u001b[0;34m=\u001b[0m \u001b[0mcreate_graph\u001b[0m\u001b[0;34m\u001b[0m\u001b[0;34m\u001b[0m\u001b[0m\n\u001b[1;32m    144\u001b[0m \u001b[0;34m\u001b[0m\u001b[0m\n\u001b[0;32m--> 145\u001b[0;31m     Variable._execution_engine.run_backward(\n\u001b[0m\u001b[1;32m    146\u001b[0m         \u001b[0mtensors\u001b[0m\u001b[0;34m,\u001b[0m \u001b[0mgrad_tensors_\u001b[0m\u001b[0;34m,\u001b[0m \u001b[0mretain_graph\u001b[0m\u001b[0;34m,\u001b[0m \u001b[0mcreate_graph\u001b[0m\u001b[0;34m,\u001b[0m \u001b[0minputs\u001b[0m\u001b[0;34m,\u001b[0m\u001b[0;34m\u001b[0m\u001b[0;34m\u001b[0m\u001b[0m\n\u001b[1;32m    147\u001b[0m         allow_unreachable=True, accumulate_grad=True)  # allow_unreachable flag\n",
      "\u001b[0;31mRuntimeError\u001b[0m: CUDA out of memory. Tried to allocate 128.00 MiB (GPU 0; 3.94 GiB total capacity; 2.64 GiB already allocated; 148.75 MiB free; 2.78 GiB reserved in total by PyTorch)"
     ]
    }
   ],
   "source": [
    "# Create work_dir\n",
    "mmcv.mkdir_or_exist(osp.abspath(cfg.work_dir))\n",
    "train_segmentor(model, datasets, cfg, distributed=False, validate=True, meta=dict())"
   ]
  },
  {
   "cell_type": "code",
   "execution_count": null,
   "id": "3d01d86b",
   "metadata": {
    "colab": {
     "base_uri": "https://localhost:8080/",
     "height": 676
    },
    "id": "3d01d86b",
    "outputId": "6e8ce6f3-60db-4942-f126-a8b4ab28fc66"
   },
   "outputs": [],
   "source": [
    "from mmseg.apis import inference_segmentor, show_result_pyplot\n",
    "img = mmcv.imread('/content/mmsegmentation/segmentation/images/image003-2-roi1.jpg')\n",
    "\n",
    "model.cfg = cfg\n",
    "result = inference_segmentor(model, img)\n",
    "plt.figure(figsize=(8, 6))\n",
    "show_result_pyplot(model, img, result, palette)"
   ]
  },
  {
   "cell_type": "code",
   "execution_count": null,
   "id": "5d8462ce",
   "metadata": {
    "colab": {
     "base_uri": "https://localhost:8080/",
     "height": 676
    },
    "id": "5d8462ce",
    "outputId": "1d2e8bfc-77f4-4a4b-cfff-aff53bc30df9"
   },
   "outputs": [],
   "source": [
    "from mmseg.apis import inference_segmentor, show_result_pyplot\n",
    "img = mmcv.imread('/content/mmsegmentation/segmentation/images/image037-roi4.jpg')\n",
    "\n",
    "model.cfg = cfg\n",
    "result = inference_segmentor(model, img)\n",
    "plt.figure(figsize=(8, 6))\n",
    "show_result_pyplot(model, img, result, palette)"
   ]
  },
  {
   "cell_type": "code",
   "execution_count": null,
   "id": "1_33v89iw4xZ",
   "metadata": {
    "id": "1_33v89iw4xZ"
   },
   "outputs": [],
   "source": []
  }
 ],
 "metadata": {
  "accelerator": "GPU",
  "colab": {
   "collapsed_sections": [],
   "name": "My MMSegmentation.ipynb",
   "provenance": []
  },
  "kernelspec": {
   "display_name": "Python 3 (ipykernel)",
   "language": "python",
   "name": "python3"
  },
  "language_info": {
   "codemirror_mode": {
    "name": "ipython",
    "version": 3
   },
   "file_extension": ".py",
   "mimetype": "text/x-python",
   "name": "python",
   "nbconvert_exporter": "python",
   "pygments_lexer": "ipython3",
   "version": "3.9.7"
  }
 },
 "nbformat": 4,
 "nbformat_minor": 5
}
