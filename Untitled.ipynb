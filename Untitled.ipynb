{
 "cells": [
  {
   "cell_type": "code",
   "execution_count": 1,
   "id": "dbf90e08",
   "metadata": {},
   "outputs": [
    {
     "name": "stdout",
     "output_type": "stream",
     "text": [
      "Archive:  segmentation.zip\r\n",
      "   creating: segmentation/\r\n",
      "   creating: segmentation/images/\r\n",
      "  inflating: segmentation/images/image003-2-roi1.jpg  \r\n",
      "  inflating: segmentation/images/image003-2-roi2.jpg  \r\n",
      "  inflating: segmentation/images/image003-2-roi3.jpg  \r\n",
      "  inflating: segmentation/images/image003-2-roi4.jpg  \r\n",
      "  inflating: segmentation/images/image003-2-roi5.jpg  \r\n",
      "  inflating: segmentation/images/image004-roi1.jpg  \r\n",
      "  inflating: segmentation/images/image004-roi2.jpg  \r\n",
      "  inflating: segmentation/images/image004-roi3.jpg  \r\n",
      "  inflating: segmentation/images/image004-roi4.jpg  \r\n",
      "  inflating: segmentation/images/image004-roi5.jpg  \r\n",
      "  inflating: segmentation/images/image005-2-roi1.jpg  \r\n",
      "  inflating: segmentation/images/image005-2-roi2.jpg  \r\n",
      "  inflating: segmentation/images/image005-2-roi3.jpg  \r\n",
      "  inflating: segmentation/images/image005-2-roi4.jpg  \r\n",
      "  inflating: segmentation/images/image005-roi1.jpg  \r\n",
      "  inflating: segmentation/images/image005-roi2.jpg  \r\n",
      "  inflating: segmentation/images/image005-roi3.jpg  \r\n",
      "  inflating: segmentation/images/image005-roi4.jpg  \r\n",
      "  inflating: segmentation/images/image006-2-roi1.jpg  \r\n",
      "  inflating: segmentation/images/image006-2-roi2.jpg  \r\n",
      "  inflating: segmentation/images/image006-2-roi3.jpg  \r\n",
      "  inflating: segmentation/images/image006-2-roi4.jpg  \r\n",
      "  inflating: segmentation/images/image006-roi1.jpg  \r\n",
      "  inflating: segmentation/images/image006-roi2.jpg  \r\n",
      "  inflating: segmentation/images/image006-roi3.jpg  \r\n",
      "  inflating: segmentation/images/image006-roi4.jpg  \r\n",
      "  inflating: segmentation/images/image006-roi5.jpg  \r\n",
      "  inflating: segmentation/images/image008-roi1.jpg  \r\n",
      "  inflating: segmentation/images/image008-roi2.jpg  \r\n",
      "  inflating: segmentation/images/image008-roi3.jpg  \r\n",
      "  inflating: segmentation/images/image008-roi4.jpg  \r\n",
      "  inflating: segmentation/images/image017-roi1.jpg  \r\n",
      "  inflating: segmentation/images/image017-roi2.jpg  \r\n",
      "  inflating: segmentation/images/image017-roi3.jpg  \r\n",
      "  inflating: segmentation/images/image018-roi2.jpg  \r\n",
      "  inflating: segmentation/images/image018-roi3.jpg  \r\n",
      "  inflating: segmentation/images/image018-roi4.jpg  \r\n",
      "  inflating: segmentation/images/image018-roi5.jpg  \r\n",
      "  inflating: segmentation/images/image018-roi6.jpg  \r\n",
      "  inflating: segmentation/images/image018-roi7.jpg  \r\n",
      "  inflating: segmentation/images/image018-roi8.jpg  \r\n",
      "  inflating: segmentation/images/image019-roi1.jpg  \r\n",
      "  inflating: segmentation/images/image019-roi2.jpg  \r\n",
      "  inflating: segmentation/images/image019-roi3.jpg  \r\n",
      "  inflating: segmentation/images/image019-roi4.jpg  \r\n",
      "  inflating: segmentation/images/image019-roi5.jpg  \r\n",
      "  inflating: segmentation/images/image019-roi6.jpg  \r\n",
      "  inflating: segmentation/images/image020-roi1.jpg  \r\n",
      "  inflating: segmentation/images/image020-roi2.jpg  \r\n",
      "  inflating: segmentation/images/image020-roi3.jpg  \r\n",
      "  inflating: segmentation/images/image020-roi4.jpg  \r\n",
      "  inflating: segmentation/images/image020-roi5.jpg  \r\n",
      "  inflating: segmentation/images/image021-roi1.jpg  \r\n",
      "  inflating: segmentation/images/image021-roi2.jpg  \r\n",
      "  inflating: segmentation/images/image021-roi3.jpg  \r\n",
      "  inflating: segmentation/images/image021-roi4.jpg  \r\n",
      "  inflating: segmentation/images/image021-roi5.jpg  \r\n",
      "  inflating: segmentation/images/image021-roi6.jpg  \r\n",
      "  inflating: segmentation/images/image022-roi1.jpg  \r\n",
      "  inflating: segmentation/images/image023-roi1.jpg  \r\n",
      "  inflating: segmentation/images/image023-roi2.jpg  \r\n",
      "  inflating: segmentation/images/image023-roi3.jpg  \r\n",
      "  inflating: segmentation/images/image023-roi4.jpg  \r\n",
      "  inflating: segmentation/images/image024-roi1.jpg  \r\n",
      "  inflating: segmentation/images/image024-roi2.jpg  \r\n",
      "  inflating: segmentation/images/image024-roi3.jpg  \r\n",
      "  inflating: segmentation/images/image024-roi4.jpg  \r\n",
      "  inflating: segmentation/images/image024-roi5.jpg  \r\n",
      "  inflating: segmentation/images/image024-roi6.jpg  \r\n",
      "  inflating: segmentation/images/image029-roi1.jpg  \r\n",
      "  inflating: segmentation/images/image029-roi2.jpg  \r\n",
      "  inflating: segmentation/images/image029-roi3.jpg  \r\n",
      "  inflating: segmentation/images/image029-roi4.jpg  \r\n",
      "  inflating: segmentation/images/image032-roi1.jpg  \r\n",
      "  inflating: segmentation/images/image032-roi2.jpg  \r\n",
      "  inflating: segmentation/images/image032-roi3.jpg  \r\n",
      "  inflating: segmentation/images/image032-roi4.jpg  \r\n",
      "  inflating: segmentation/images/image033-roi1.jpg  \r\n",
      "  inflating: segmentation/images/image033-roi2.jpg  \r\n",
      "  inflating: segmentation/images/image034-roi1.jpg  \r\n",
      "  inflating: segmentation/images/image034-roi2.jpg  \r\n",
      "  inflating: segmentation/images/image037-roi2.jpg  \r\n",
      "  inflating: segmentation/images/image037-roi3.jpg  \r\n",
      "  inflating: segmentation/images/image037-roi4.jpg  \r\n",
      "  inflating: segmentation/images/image037-roi5.jpg  \r\n",
      "  inflating: segmentation/images/image037-roi6.jpg  \r\n",
      "  inflating: segmentation/images/image037-roi7.jpg  \r\n",
      "  inflating: segmentation/images/image038-roi1.jpg  \r\n",
      "  inflating: segmentation/images/image038-roi2.jpg  \r\n",
      "  inflating: segmentation/images/image038-roi3.jpg  \r\n",
      "  inflating: segmentation/images/image038-roi4.jpg  \r\n",
      "  inflating: segmentation/images/image038-roi5.jpg  \r\n",
      "  inflating: segmentation/images/image038-roi6.jpg  \r\n",
      "  inflating: segmentation/images/image039-roi1.jpg  \r\n",
      "  inflating: segmentation/images/image039-roi2.jpg  \r\n",
      "  inflating: segmentation/images/image039-roi3.jpg  \r\n",
      "  inflating: segmentation/images/image043-roi1.jpg  \r\n",
      "  inflating: segmentation/images/image043-roi2.jpg  \r\n",
      "  inflating: segmentation/images/image043-roi3.jpg  \r\n",
      "  inflating: segmentation/images/image043-roi4.jpg  \r\n",
      "  inflating: segmentation/images/image050-roi1.jpg  \r\n",
      "  inflating: segmentation/images/image050-roi2.jpg  \r\n",
      "  inflating: segmentation/images/image050-roi3.jpg  \r\n",
      "  inflating: segmentation/images/image050-roi4.jpg  \r\n",
      "  inflating: segmentation/images/image050-roi5.jpg  \r\n",
      "  inflating: segmentation/images/image058-roi1.jpg  \r\n",
      "  inflating: segmentation/images/image058-roi2.jpg  \r\n",
      "  inflating: segmentation/images/image058-roi3.jpg  \r\n",
      "  inflating: segmentation/images/image058-roi4.jpg  \r\n",
      "  inflating: segmentation/images/image058-roi5.jpg  \r\n",
      "  inflating: segmentation/images/image058-roi6.jpg  \r\n",
      "  inflating: segmentation/images/image058-roi7.jpg  \r\n",
      "  inflating: segmentation/images/image058-roi8.jpg  \r\n",
      "  inflating: segmentation/images/image061-roi1.jpg  \r\n",
      "  inflating: segmentation/images/image061-roi2.jpg  \r\n",
      "  inflating: segmentation/images/image061-roi3.jpg  \r\n",
      "  inflating: segmentation/images/image061-roi4.jpg  \r\n",
      "  inflating: segmentation/images/image061-roi5.jpg  \r\n",
      "  inflating: segmentation/images/image062-roi1.jpg  \r\n",
      "  inflating: segmentation/images/image062-roi2.jpg  \r\n",
      "   creating: segmentation/annotations/\r\n",
      "  inflating: segmentation/annotations/image003-2-roi1.jpg  \r\n",
      "  inflating: segmentation/annotations/image003-2-roi2.jpg  \r\n",
      "  inflating: segmentation/annotations/image003-2-roi3.jpg  \r\n",
      "  inflating: segmentation/annotations/image003-2-roi4.jpg  \r\n",
      "  inflating: segmentation/annotations/image003-2-roi5.jpg  \r\n",
      "  inflating: segmentation/annotations/image004-roi1.jpg  \r\n",
      "  inflating: segmentation/annotations/image004-roi2.jpg  \r\n",
      "  inflating: segmentation/annotations/image004-roi3.jpg  \r\n",
      "  inflating: segmentation/annotations/image004-roi4.jpg  \r\n",
      "  inflating: segmentation/annotations/image004-roi5.jpg  \r\n",
      "  inflating: segmentation/annotations/image005-2-roi1.jpg  \r\n",
      "  inflating: segmentation/annotations/image005-2-roi2.jpg  \r\n",
      "  inflating: segmentation/annotations/image005-2-roi3.jpg  \r\n",
      "  inflating: segmentation/annotations/image005-2-roi4.jpg  \r\n",
      "  inflating: segmentation/annotations/image005-roi1.jpg  \r\n",
      "  inflating: segmentation/annotations/image005-roi2.jpg  \r\n",
      "  inflating: segmentation/annotations/image005-roi3.jpg  \r\n",
      "  inflating: segmentation/annotations/image005-roi4.jpg  \r\n",
      "  inflating: segmentation/annotations/image006-2-roi1.jpg  \r\n",
      "  inflating: segmentation/annotations/image006-2-roi2.jpg  \r\n",
      "  inflating: segmentation/annotations/image006-2-roi3.jpg  \r\n",
      "  inflating: segmentation/annotations/image006-2-roi4.jpg  \r\n",
      "  inflating: segmentation/annotations/image006-roi1.jpg  \r\n",
      "  inflating: segmentation/annotations/image006-roi2.jpg  \r\n",
      "  inflating: segmentation/annotations/image006-roi3.jpg  \r\n",
      "  inflating: segmentation/annotations/image006-roi4.jpg  \r\n",
      "  inflating: segmentation/annotations/image006-roi5.jpg  \r\n",
      "  inflating: segmentation/annotations/image008-roi1.jpg  \r\n",
      "  inflating: segmentation/annotations/image008-roi2.jpg  \r\n",
      "  inflating: segmentation/annotations/image008-roi3.jpg  \r\n",
      "  inflating: segmentation/annotations/image008-roi4.jpg  \r\n",
      "  inflating: segmentation/annotations/image017-roi1.jpg  \r\n",
      "  inflating: segmentation/annotations/image017-roi2.jpg  \r\n",
      "  inflating: segmentation/annotations/image017-roi3.jpg  \r\n",
      "  inflating: segmentation/annotations/image018-roi2.jpg  \r\n",
      "  inflating: segmentation/annotations/image018-roi3.jpg  \r\n",
      "  inflating: segmentation/annotations/image018-roi4.jpg  \r\n",
      "  inflating: segmentation/annotations/image018-roi5.jpg  \r\n",
      "  inflating: segmentation/annotations/image018-roi6.jpg  \r\n",
      "  inflating: segmentation/annotations/image018-roi7.jpg  \r\n",
      "  inflating: segmentation/annotations/image018-roi8.jpg  \r\n",
      "  inflating: segmentation/annotations/image019-roi1.jpg  \r\n",
      "  inflating: segmentation/annotations/image019-roi2.jpg  \r\n",
      "  inflating: segmentation/annotations/image019-roi3.jpg  \r\n",
      "  inflating: segmentation/annotations/image019-roi4.jpg  \r\n",
      "  inflating: segmentation/annotations/image019-roi5.jpg  \r\n",
      "  inflating: segmentation/annotations/image019-roi6.jpg  \r\n",
      "  inflating: segmentation/annotations/image020-roi1.jpg  \r\n",
      "  inflating: segmentation/annotations/image020-roi2.jpg  \r\n",
      "  inflating: segmentation/annotations/image020-roi3.jpg  \r\n",
      "  inflating: segmentation/annotations/image020-roi4.jpg  \r\n",
      "  inflating: segmentation/annotations/image020-roi5.jpg  \r\n",
      "  inflating: segmentation/annotations/image021-roi1.jpg  \r\n",
      "  inflating: segmentation/annotations/image021-roi2.jpg  \r\n",
      "  inflating: segmentation/annotations/image021-roi3.jpg  \r\n",
      "  inflating: segmentation/annotations/image021-roi4.jpg  \r\n",
      "  inflating: segmentation/annotations/image021-roi5.jpg  \r\n",
      "  inflating: segmentation/annotations/image021-roi6.jpg  \r\n",
      "  inflating: segmentation/annotations/image022-roi1.jpg  \r\n",
      "  inflating: segmentation/annotations/image023-roi1.jpg  \r\n",
      "  inflating: segmentation/annotations/image023-roi2.jpg  \r\n",
      "  inflating: segmentation/annotations/image023-roi3.jpg  \r\n",
      "  inflating: segmentation/annotations/image023-roi4.jpg  \r\n",
      "  inflating: segmentation/annotations/image024-roi1.jpg  \r\n",
      "  inflating: segmentation/annotations/image024-roi2.jpg  \r\n",
      "  inflating: segmentation/annotations/image024-roi3.jpg  \r\n",
      "  inflating: segmentation/annotations/image024-roi4.jpg  \r\n",
      "  inflating: segmentation/annotations/image024-roi5.jpg  \r\n",
      "  inflating: segmentation/annotations/image024-roi6.jpg  \r\n",
      "  inflating: segmentation/annotations/image029-roi1.jpg  \r\n",
      "  inflating: segmentation/annotations/image029-roi2.jpg  \r\n",
      "  inflating: segmentation/annotations/image029-roi3.jpg  \r\n",
      "  inflating: segmentation/annotations/image029-roi4.jpg  \r\n",
      "  inflating: segmentation/annotations/image032-roi1.jpg  \r\n",
      "  inflating: segmentation/annotations/image032-roi2.jpg  \r\n",
      "  inflating: segmentation/annotations/image032-roi3.jpg  \r\n",
      "  inflating: segmentation/annotations/image032-roi4.jpg  \r\n",
      "  inflating: segmentation/annotations/image033-roi1.jpg  \r\n",
      "  inflating: segmentation/annotations/image033-roi2.jpg  \r\n",
      "  inflating: segmentation/annotations/image034-roi1.jpg  \r\n",
      "  inflating: segmentation/annotations/image034-roi2.jpg  \r\n",
      "  inflating: segmentation/annotations/image037-roi2.jpg  \r\n",
      "  inflating: segmentation/annotations/image037-roi3.jpg  \r\n",
      "  inflating: segmentation/annotations/image037-roi4.jpg  \r\n",
      "  inflating: segmentation/annotations/image037-roi5.jpg  \r\n",
      "  inflating: segmentation/annotations/image037-roi6.jpg  \r\n",
      "  inflating: segmentation/annotations/image037-roi7.jpg  \r\n",
      "  inflating: segmentation/annotations/image038-roi1.jpg  \r\n",
      "  inflating: segmentation/annotations/image038-roi2.jpg  \r\n",
      "  inflating: segmentation/annotations/image038-roi3.jpg  \r\n",
      "  inflating: segmentation/annotations/image038-roi4.jpg  \r\n",
      "  inflating: segmentation/annotations/image038-roi5.jpg  \r\n",
      "  inflating: segmentation/annotations/image038-roi6.jpg  \r\n",
      "  inflating: segmentation/annotations/image039-roi1.jpg  \r\n",
      "  inflating: segmentation/annotations/image039-roi2.jpg  \r\n",
      "  inflating: segmentation/annotations/image039-roi3.jpg  \r\n"
     ]
    },
    {
     "name": "stdout",
     "output_type": "stream",
     "text": [
      "  inflating: segmentation/annotations/image043-roi1.jpg  \r\n",
      "  inflating: segmentation/annotations/image043-roi2.jpg  \r\n",
      "  inflating: segmentation/annotations/image043-roi3.jpg  \r\n",
      "  inflating: segmentation/annotations/image043-roi4.jpg  \r\n",
      "  inflating: segmentation/annotations/image050-roi1.jpg  \r\n",
      "  inflating: segmentation/annotations/image050-roi2.jpg  \r\n",
      "  inflating: segmentation/annotations/image050-roi3.jpg  \r\n",
      "  inflating: segmentation/annotations/image050-roi4.jpg  \r\n",
      "  inflating: segmentation/annotations/image050-roi5.jpg  \r\n",
      "  inflating: segmentation/annotations/image058-roi1.jpg  \r\n",
      "  inflating: segmentation/annotations/image058-roi2.jpg  \r\n",
      "  inflating: segmentation/annotations/image058-roi3.jpg  \r\n",
      "  inflating: segmentation/annotations/image058-roi4.jpg  \r\n",
      "  inflating: segmentation/annotations/image058-roi5.jpg  \r\n",
      "  inflating: segmentation/annotations/image058-roi6.jpg  \r\n",
      "  inflating: segmentation/annotations/image058-roi7.jpg  \r\n",
      "  inflating: segmentation/annotations/image058-roi8.jpg  \r\n",
      "  inflating: segmentation/annotations/image061-roi1.jpg  \r\n",
      "  inflating: segmentation/annotations/image061-roi2.jpg  \r\n",
      "  inflating: segmentation/annotations/image061-roi3.jpg  \r\n",
      "  inflating: segmentation/annotations/image061-roi4.jpg  \r\n",
      "  inflating: segmentation/annotations/image061-roi5.jpg  \r\n",
      "  inflating: segmentation/annotations/image062-roi1.jpg  \r\n",
      "  inflating: segmentation/annotations/image062-roi2.jpg  \r\n"
     ]
    }
   ],
   "source": [
    "!cp /home/neto/Documents/displasia-ROI-classes/segmentation/segmentation.zip ./\n",
    "!unzip segmentation.zip"
   ]
  },
  {
   "cell_type": "code",
   "execution_count": 2,
   "id": "c141f772",
   "metadata": {},
   "outputs": [],
   "source": [
    "import mmcv\n",
    "import matplotlib.pyplot as plt\n",
    "from PIL import Image\n",
    "import numpy as np\n",
    "import glob"
   ]
  },
  {
   "cell_type": "code",
   "execution_count": 3,
   "id": "53c8045e",
   "metadata": {},
   "outputs": [
    {
     "data": {
      "image/png": "[encoded data removed]",
      "text/plain": [
       "<Figure size 576x432 with 1 Axes>"
      ]
     },
     "metadata": {
      "needs_background": "light"
     },
     "output_type": "display_data"
    }
   ],
   "source": [
    "img = Image.open('./segmentation/annotations/image062-roi2.jpg')\n",
    "plt.figure(figsize=(8, 6))\n",
    "im = plt.imshow(np.array(img.convert('RGB')))"
   ]
  },
  {
   "cell_type": "code",
   "execution_count": 4,
   "id": "a0fdb018",
   "metadata": {},
   "outputs": [
    {
     "data": {
      "text/plain": [
       "(250, 450)"
      ]
     },
     "execution_count": 4,
     "metadata": {},
     "output_type": "execute_result"
    }
   ],
   "source": [
    "np.array(img).shape"
   ]
  },
  {
   "cell_type": "code",
   "execution_count": 5,
   "id": "d06305f9",
   "metadata": {},
   "outputs": [
    {
     "data": {
      "text/plain": [
       "[(20951, (255, 255, 255)),\n",
       " (1174, (253, 253, 253)),\n",
       " (533, (251, 251, 251)),\n",
       " (164, (249, 249, 249)),\n",
       " (75, (247, 247, 247)),\n",
       " (4, (245, 245, 245)),\n",
       " (1, (243, 243, 243)),\n",
       " (3, (11, 11, 11)),\n",
       " (22, (9, 9, 9)),\n",
       " (141, (7, 7, 7)),\n",
       " (394, (5, 5, 5)),\n",
       " (970, (3, 3, 3)),\n",
       " (1621, (1, 1, 1)),\n",
       " (1401, (254, 254, 254)),\n",
       " (822, (252, 252, 252)),\n",
       " (314, (250, 250, 250)),\n",
       " (169, (248, 248, 248)),\n",
       " (14, (246, 246, 246)),\n",
       " (2, (244, 244, 244)),\n",
       " (4, (12, 12, 12)),\n",
       " (19, (10, 10, 10)),\n",
       " (77, (8, 8, 8)),\n",
       " (174, (6, 6, 6)),\n",
       " (586, (4, 4, 4)),\n",
       " (1286, (2, 2, 2)),\n",
       " (81579, (0, 0, 0))]"
      ]
     },
     "execution_count": 5,
     "metadata": {},
     "output_type": "execute_result"
    }
   ],
   "source": [
    "img.convert('RGB').getcolors()"
   ]
  },
  {
   "cell_type": "code",
   "execution_count": 6,
   "id": "ca0ca234",
   "metadata": {},
   "outputs": [
    {
     "name": "stdout",
     "output_type": "stream",
     "text": [
      "None\n"
     ]
    }
   ],
   "source": [
    "print(img.convert('RGB').getpalette())"
   ]
  },
  {
   "cell_type": "code",
   "execution_count": 7,
   "id": "4b2e4a57",
   "metadata": {},
   "outputs": [
    {
     "data": {
      "image/png": "[encoded data removed]",
      "text/plain": [
       "<PIL.Image.Image image mode=RGB size=450x250 at 0x7FC1C6058E80>"
      ]
     },
     "execution_count": 7,
     "metadata": {},
     "output_type": "execute_result"
    }
   ],
   "source": [
    "newImg = img.convert('RGB').quantize(3)\n",
    "newImg.convert('RGB')"
   ]
  },
  {
   "cell_type": "code",
   "execution_count": 12,
   "id": "8a949fe7",
   "metadata": {},
   "outputs": [
    {
     "data": {
      "text/plain": [
       "(250, 450)"
      ]
     },
     "execution_count": 12,
     "metadata": {},
     "output_type": "execute_result"
    }
   ],
   "source": [
    "np.array(newImg).shape"
   ]
  },
  {
   "cell_type": "code",
   "execution_count": 8,
   "id": "d4ba6fae",
   "metadata": {},
   "outputs": [
    {
     "data": {
      "text/plain": [
       "[(25624, (255, 255, 255)), (86876, (0, 0, 0))]"
      ]
     },
     "execution_count": 8,
     "metadata": {},
     "output_type": "execute_result"
    }
   ],
   "source": [
    "newImg.convert('RGB').getcolors()"
   ]
  },
  {
   "cell_type": "code",
   "execution_count": 9,
   "id": "29328a66",
   "metadata": {},
   "outputs": [
    {
     "data": {
      "text/plain": [
       "<matplotlib.image.AxesImage at 0x7fc1c5fb60d0>"
      ]
     },
     "execution_count": 9,
     "metadata": {},
     "output_type": "execute_result"
    },
    {
     "data": {
      "image/png": "[encoded data removed]",
      "text/plain": [
       "<Figure size 432x288 with 1 Axes>"
      ]
     },
     "metadata": {
      "needs_background": "light"
     },
     "output_type": "display_data"
    }
   ],
   "source": [
    "plt.imshow(img.convert('RGB'))"
   ]
  },
  {
   "cell_type": "code",
   "execution_count": 10,
   "id": "5dbb88bc",
   "metadata": {},
   "outputs": [
    {
     "data": {
      "text/plain": [
       "<matplotlib.image.AxesImage at 0x7fc1c5f22670>"
      ]
     },
     "execution_count": 10,
     "metadata": {},
     "output_type": "execute_result"
    },
    {
     "data": {
      "image/png": "[encoded data removed]",
      "text/plain": [
       "<Figure size 432x288 with 1 Axes>"
      ]
     },
     "metadata": {
      "needs_background": "light"
     },
     "output_type": "display_data"
    }
   ],
   "source": [
    "plt.imshow(newImg.convert('RGB'))"
   ]
  },
  {
   "cell_type": "code",
   "execution_count": 49,
   "id": "0f6e447c",
   "metadata": {},
   "outputs": [
    {
     "data": {
      "text/plain": [
       "array([[1, 1, 1, ..., 1, 1, 1],\n",
       "       [1, 1, 1, ..., 1, 1, 1],\n",
       "       [1, 1, 1, ..., 1, 1, 1],\n",
       "       ...,\n",
       "       [1, 1, 1, ..., 1, 1, 1],\n",
       "       [1, 1, 1, ..., 1, 1, 1],\n",
       "       [1, 1, 1, ..., 1, 1, 1]], dtype=uint8)"
      ]
     },
     "execution_count": 49,
     "metadata": {},
     "output_type": "execute_result"
    }
   ],
   "source": [
    "np.asarray(img)"
   ]
  },
  {
   "cell_type": "code",
   "execution_count": 65,
   "id": "e84b4ec1",
   "metadata": {},
   "outputs": [],
   "source": [
    "for filepath in glob.iglob('segmentation/annotations/*.jpg'):\n",
    "    img = Image.open(filepath)\n",
    "    img = img.convert('RGB').quantize(2)\n",
    "    img = np.asarray(img.convert('RGB'))\n",
    "    img[img > 150] = 255\n",
    "    img[img <= 150] = 0\n",
    "    img = Image.fromarray(img)\n",
    "    assert len(img.getcolors()) == 2\n",
    "    img.save(filepath)"
   ]
  },
  {
   "cell_type": "code",
   "execution_count": 66,
   "id": "3739f532",
   "metadata": {},
   "outputs": [
    {
     "name": "stdout",
     "output_type": "stream",
     "text": [
      "\u001b[0m\u001b[01;35mimage003-2-roi1.jpg\u001b[0m  \u001b[01;35mimage008-roi4.jpg\u001b[0m  \u001b[01;35mimage023-roi2.jpg\u001b[0m  \u001b[01;35mimage038-roi4.jpg\u001b[0m\r\n",
      "\u001b[01;35mimage003-2-roi2.jpg\u001b[0m  \u001b[01;35mimage017-roi1.jpg\u001b[0m  \u001b[01;35mimage023-roi3.jpg\u001b[0m  \u001b[01;35mimage038-roi5.jpg\u001b[0m\r\n",
      "\u001b[01;35mimage003-2-roi3.jpg\u001b[0m  \u001b[01;35mimage017-roi2.jpg\u001b[0m  \u001b[01;35mimage023-roi4.jpg\u001b[0m  \u001b[01;35mimage038-roi6.jpg\u001b[0m\r\n",
      "\u001b[01;35mimage003-2-roi4.jpg\u001b[0m  \u001b[01;35mimage017-roi3.jpg\u001b[0m  \u001b[01;35mimage024-roi1.jpg\u001b[0m  \u001b[01;35mimage039-roi1.jpg\u001b[0m\r\n",
      "\u001b[01;35mimage003-2-roi5.jpg\u001b[0m  \u001b[01;35mimage018-roi2.jpg\u001b[0m  \u001b[01;35mimage024-roi2.jpg\u001b[0m  \u001b[01;35mimage039-roi2.jpg\u001b[0m\r\n",
      "\u001b[01;35mimage004-roi1.jpg\u001b[0m    \u001b[01;35mimage018-roi3.jpg\u001b[0m  \u001b[01;35mimage024-roi3.jpg\u001b[0m  \u001b[01;35mimage039-roi3.jpg\u001b[0m\r\n",
      "\u001b[01;35mimage004-roi2.jpg\u001b[0m    \u001b[01;35mimage018-roi4.jpg\u001b[0m  \u001b[01;35mimage024-roi4.jpg\u001b[0m  \u001b[01;35mimage043-roi1.jpg\u001b[0m\r\n",
      "\u001b[01;35mimage004-roi3.jpg\u001b[0m    \u001b[01;35mimage018-roi5.jpg\u001b[0m  \u001b[01;35mimage024-roi5.jpg\u001b[0m  \u001b[01;35mimage043-roi2.jpg\u001b[0m\r\n",
      "\u001b[01;35mimage004-roi4.jpg\u001b[0m    \u001b[01;35mimage018-roi6.jpg\u001b[0m  \u001b[01;35mimage024-roi6.jpg\u001b[0m  \u001b[01;35mimage043-roi3.jpg\u001b[0m\r\n",
      "\u001b[01;35mimage004-roi5.jpg\u001b[0m    \u001b[01;35mimage018-roi7.jpg\u001b[0m  \u001b[01;35mimage029-roi1.jpg\u001b[0m  \u001b[01;35mimage043-roi4.jpg\u001b[0m\r\n",
      "\u001b[01;35mimage005-2-roi1.jpg\u001b[0m  \u001b[01;35mimage018-roi8.jpg\u001b[0m  \u001b[01;35mimage029-roi2.jpg\u001b[0m  \u001b[01;35mimage050-roi1.jpg\u001b[0m\r\n",
      "\u001b[01;35mimage005-2-roi2.jpg\u001b[0m  \u001b[01;35mimage019-roi1.jpg\u001b[0m  \u001b[01;35mimage029-roi3.jpg\u001b[0m  \u001b[01;35mimage050-roi2.jpg\u001b[0m\r\n",
      "\u001b[01;35mimage005-2-roi3.jpg\u001b[0m  \u001b[01;35mimage019-roi2.jpg\u001b[0m  \u001b[01;35mimage029-roi4.jpg\u001b[0m  \u001b[01;35mimage050-roi3.jpg\u001b[0m\r\n",
      "\u001b[01;35mimage005-2-roi4.jpg\u001b[0m  \u001b[01;35mimage019-roi3.jpg\u001b[0m  \u001b[01;35mimage032-roi1.jpg\u001b[0m  \u001b[01;35mimage050-roi4.jpg\u001b[0m\r\n",
      "\u001b[01;35mimage005-roi1.jpg\u001b[0m    \u001b[01;35mimage019-roi4.jpg\u001b[0m  \u001b[01;35mimage032-roi2.jpg\u001b[0m  \u001b[01;35mimage050-roi5.jpg\u001b[0m\r\n",
      "\u001b[01;35mimage005-roi2.jpg\u001b[0m    \u001b[01;35mimage019-roi5.jpg\u001b[0m  \u001b[01;35mimage032-roi3.jpg\u001b[0m  \u001b[01;35mimage058-roi1.jpg\u001b[0m\r\n",
      "\u001b[01;35mimage005-roi3.jpg\u001b[0m    \u001b[01;35mimage019-roi6.jpg\u001b[0m  \u001b[01;35mimage032-roi4.jpg\u001b[0m  \u001b[01;35mimage058-roi2.jpg\u001b[0m\r\n",
      "\u001b[01;35mimage005-roi4.jpg\u001b[0m    \u001b[01;35mimage020-roi1.jpg\u001b[0m  \u001b[01;35mimage033-roi1.jpg\u001b[0m  \u001b[01;35mimage058-roi3.jpg\u001b[0m\r\n",
      "\u001b[01;35mimage006-2-roi1.jpg\u001b[0m  \u001b[01;35mimage020-roi2.jpg\u001b[0m  \u001b[01;35mimage033-roi2.jpg\u001b[0m  \u001b[01;35mimage058-roi4.jpg\u001b[0m\r\n",
      "\u001b[01;35mimage006-2-roi2.jpg\u001b[0m  \u001b[01;35mimage020-roi3.jpg\u001b[0m  \u001b[01;35mimage034-roi1.jpg\u001b[0m  \u001b[01;35mimage058-roi5.jpg\u001b[0m\r\n",
      "\u001b[01;35mimage006-2-roi3.jpg\u001b[0m  \u001b[01;35mimage020-roi4.jpg\u001b[0m  \u001b[01;35mimage034-roi2.jpg\u001b[0m  \u001b[01;35mimage058-roi6.jpg\u001b[0m\r\n",
      "\u001b[01;35mimage006-2-roi4.jpg\u001b[0m  \u001b[01;35mimage020-roi5.jpg\u001b[0m  \u001b[01;35mimage037-roi2.jpg\u001b[0m  \u001b[01;35mimage058-roi7.jpg\u001b[0m\r\n",
      "\u001b[01;35mimage006-roi1.jpg\u001b[0m    \u001b[01;35mimage021-roi1.jpg\u001b[0m  \u001b[01;35mimage037-roi3.jpg\u001b[0m  \u001b[01;35mimage058-roi8.jpg\u001b[0m\r\n",
      "\u001b[01;35mimage006-roi2.jpg\u001b[0m    \u001b[01;35mimage021-roi2.jpg\u001b[0m  \u001b[01;35mimage037-roi4.jpg\u001b[0m  \u001b[01;35mimage061-roi1.jpg\u001b[0m\r\n",
      "\u001b[01;35mimage006-roi3.jpg\u001b[0m    \u001b[01;35mimage021-roi3.jpg\u001b[0m  \u001b[01;35mimage037-roi5.jpg\u001b[0m  \u001b[01;35mimage061-roi2.jpg\u001b[0m\r\n",
      "\u001b[01;35mimage006-roi4.jpg\u001b[0m    \u001b[01;35mimage021-roi4.jpg\u001b[0m  \u001b[01;35mimage037-roi6.jpg\u001b[0m  \u001b[01;35mimage061-roi3.jpg\u001b[0m\r\n",
      "\u001b[01;35mimage006-roi5.jpg\u001b[0m    \u001b[01;35mimage021-roi5.jpg\u001b[0m  \u001b[01;35mimage037-roi7.jpg\u001b[0m  \u001b[01;35mimage061-roi4.jpg\u001b[0m\r\n",
      "\u001b[01;35mimage008-roi1.jpg\u001b[0m    \u001b[01;35mimage021-roi6.jpg\u001b[0m  \u001b[01;35mimage038-roi1.jpg\u001b[0m  \u001b[01;35mimage061-roi5.jpg\u001b[0m\r\n",
      "\u001b[01;35mimage008-roi2.jpg\u001b[0m    \u001b[01;35mimage022-roi1.jpg\u001b[0m  \u001b[01;35mimage038-roi2.jpg\u001b[0m  \u001b[01;35mimage062-roi1.jpg\u001b[0m\r\n",
      "\u001b[01;35mimage008-roi3.jpg\u001b[0m    \u001b[01;35mimage023-roi1.jpg\u001b[0m  \u001b[01;35mimage038-roi3.jpg\u001b[0m  \u001b[01;35mimage062-roi2.jpg\u001b[0m\r\n"
     ]
    }
   ],
   "source": [
    "%ls segmentation/annotations/"
   ]
  },
  {
   "cell_type": "code",
   "execution_count": 68,
   "id": "afdfee11",
   "metadata": {},
   "outputs": [
    {
     "name": "stdout",
     "output_type": "stream",
     "text": [
      "  adding: segmentation/ (stored 0%)\n",
      "  adding: segmentation/annotations/ (stored 0%)\n",
      "  adding: segmentation/annotations/image005-roi4.jpg (deflated 7%)\n",
      "  adding: segmentation/annotations/image021-roi4.jpg (deflated 5%)\n",
      "  adding: segmentation/annotations/image021-roi5.jpg (deflated 9%)\n",
      "  adding: segmentation/annotations/image006-2-roi3.jpg (deflated 6%)\n",
      "  adding: segmentation/annotations/image058-roi4.jpg (deflated 7%)\n",
      "  adding: segmentation/annotations/image005-2-roi3.jpg (deflated 5%)\n",
      "  adding: segmentation/annotations/image006-roi5.jpg (deflated 5%)\n",
      "  adding: segmentation/annotations/image058-roi5.jpg (deflated 10%)\n",
      "  adding: segmentation/annotations/image032-roi1.jpg (deflated 7%)\n",
      "  adding: segmentation/annotations/image024-roi4.jpg (deflated 6%)\n",
      "  adding: segmentation/annotations/image058-roi7.jpg (deflated 10%)\n",
      "  adding: segmentation/annotations/image005-roi3.jpg (deflated 9%)\n",
      "  adding: segmentation/annotations/image023-roi3.jpg (deflated 6%)\n",
      "  adding: segmentation/annotations/image062-roi2.jpg (deflated 10%)\n",
      "  adding: segmentation/annotations/image020-roi3.jpg (deflated 7%)\n",
      "  adding: segmentation/annotations/image004-roi1.jpg (deflated 7%)\n",
      "  adding: segmentation/annotations/image022-roi1.jpg (deflated 6%)\n",
      "  adding: segmentation/annotations/image020-roi1.jpg (deflated 7%)\n",
      "  adding: segmentation/annotations/image018-roi2.jpg (deflated 6%)\n",
      "  adding: segmentation/annotations/image019-roi5.jpg (deflated 9%)\n",
      "  adding: segmentation/annotations/image039-roi3.jpg (deflated 4%)\n",
      "  adding: segmentation/annotations/image020-roi5.jpg (deflated 8%)\n",
      "  adding: segmentation/annotations/image033-roi2.jpg (deflated 8%)\n",
      "  adding: segmentation/annotations/image039-roi1.jpg (deflated 8%)\n",
      "  adding: segmentation/annotations/image006-roi1.jpg (deflated 8%)\n",
      "  adding: segmentation/annotations/image021-roi1.jpg (deflated 7%)\n",
      "  adding: segmentation/annotations/image029-roi4.jpg (deflated 11%)\n",
      "  adding: segmentation/annotations/image021-roi2.jpg (deflated 11%)\n",
      "  adding: segmentation/annotations/image058-roi2.jpg (deflated 7%)\n",
      "  adding: segmentation/annotations/image017-roi3.jpg (deflated 6%)\n",
      "  adding: segmentation/annotations/image029-roi2.jpg (deflated 19%)\n",
      "  adding: segmentation/annotations/image005-2-roi2.jpg (deflated 8%)\n",
      "  adding: segmentation/annotations/image061-roi3.jpg (deflated 8%)\n",
      "  adding: segmentation/annotations/image017-roi2.jpg (deflated 8%)\n",
      "  adding: segmentation/annotations/image019-roi3.jpg (deflated 6%)\n",
      "  adding: segmentation/annotations/image006-roi3.jpg (deflated 5%)\n",
      "  adding: segmentation/annotations/image018-roi3.jpg (deflated 6%)\n",
      "  adding: segmentation/annotations/image021-roi3.jpg (deflated 5%)\n",
      "  adding: segmentation/annotations/image018-roi4.jpg (deflated 8%)\n",
      "  adding: segmentation/annotations/image006-roi2.jpg (deflated 9%)\n",
      "  adding: segmentation/annotations/image034-roi2.jpg (deflated 8%)\n",
      "  adding: segmentation/annotations/image019-roi6.jpg (deflated 11%)\n",
      "  adding: segmentation/annotations/image008-roi4.jpg (deflated 8%)\n",
      "  adding: segmentation/annotations/image004-roi2.jpg (deflated 8%)\n",
      "  adding: segmentation/annotations/image043-roi1.jpg (deflated 5%)\n",
      "  adding: segmentation/annotations/image005-2-roi1.jpg (deflated 7%)\n",
      "  adding: segmentation/annotations/image004-roi5.jpg (deflated 8%)\n",
      "  adding: segmentation/annotations/image024-roi1.jpg (deflated 6%)\n",
      "  adding: segmentation/annotations/image021-roi6.jpg (deflated 7%)\n",
      "  adding: segmentation/annotations/image018-roi6.jpg (deflated 7%)\n",
      "  adding: segmentation/annotations/image033-roi1.jpg (deflated 7%)\n",
      "  adding: segmentation/annotations/image037-roi6.jpg (deflated 12%)\n",
      "  adding: segmentation/annotations/image029-roi3.jpg (deflated 10%)\n",
      "  adding: segmentation/annotations/image006-2-roi4.jpg (deflated 8%)\n",
      "  adding: segmentation/annotations/image024-roi6.jpg (deflated 7%)\n",
      "  adding: segmentation/annotations/image029-roi1.jpg (deflated 8%)\n",
      "  adding: segmentation/annotations/image061-roi1.jpg (deflated 9%)\n",
      "  adding: segmentation/annotations/image038-roi5.jpg (deflated 8%)\n",
      "  adding: segmentation/annotations/image017-roi1.jpg (deflated 5%)\n",
      "  adding: segmentation/annotations/image032-roi3.jpg (deflated 15%)\n",
      "  adding: segmentation/annotations/image037-roi3.jpg (deflated 9%)\n",
      "  adding: segmentation/annotations/image038-roi2.jpg (deflated 6%)\n",
      "  adding: segmentation/annotations/image018-roi5.jpg (deflated 7%)\n",
      "  adding: segmentation/annotations/image050-roi3.jpg (deflated 5%)\n",
      "  adding: segmentation/annotations/image058-roi1.jpg (deflated 11%)\n",
      "  adding: segmentation/annotations/image006-2-roi1.jpg (deflated 9%)\n",
      "  adding: segmentation/annotations/image006-2-roi2.jpg (deflated 7%)\n",
      "  adding: segmentation/annotations/image062-roi1.jpg (deflated 12%)\n",
      "  adding: segmentation/annotations/image020-roi2.jpg (deflated 6%)\n",
      "  adding: segmentation/annotations/image018-roi7.jpg (deflated 12%)\n",
      "  adding: segmentation/annotations/image018-roi8.jpg (deflated 6%)\n",
      "  adding: segmentation/annotations/image061-roi2.jpg (deflated 9%)\n",
      "  adding: segmentation/annotations/image003-2-roi4.jpg (deflated 9%)\n",
      "  adding: segmentation/annotations/image050-roi5.jpg (deflated 7%)\n",
      "  adding: segmentation/annotations/image024-roi3.jpg (deflated 6%)\n",
      "  adding: segmentation/annotations/image023-roi2.jpg (deflated 7%)\n",
      "  adding: segmentation/annotations/image043-roi3.jpg (deflated 6%)\n",
      "  adding: segmentation/annotations/image058-roi3.jpg (deflated 10%)\n",
      "  adding: segmentation/annotations/image037-roi7.jpg (deflated 9%)\n",
      "  adding: segmentation/annotations/image008-roi2.jpg (deflated 8%)\n",
      "  adding: segmentation/annotations/image032-roi2.jpg (deflated 6%)\n",
      "  adding: segmentation/annotations/image005-roi1.jpg (deflated 7%)\n",
      "  adding: segmentation/annotations/image038-roi6.jpg (deflated 8%)\n",
      "  adding: segmentation/annotations/image003-2-roi5.jpg (deflated 7%)\n",
      "  adding: segmentation/annotations/image023-roi1.jpg (deflated 10%)\n",
      "  adding: segmentation/annotations/image020-roi4.jpg (deflated 8%)\n",
      "  adding: segmentation/annotations/image006-roi4.jpg (deflated 8%)\n",
      "  adding: segmentation/annotations/image003-2-roi1.jpg (deflated 12%)\n",
      "  adding: segmentation/annotations/image005-2-roi4.jpg (deflated 8%)\n",
      "  adding: segmentation/annotations/image043-roi4.jpg (deflated 7%)\n",
      "  adding: segmentation/annotations/image050-roi4.jpg (deflated 6%)\n",
      "  adding: segmentation/annotations/image019-roi1.jpg (deflated 6%)\n",
      "  adding: segmentation/annotations/image038-roi3.jpg (deflated 7%)\n",
      "  adding: segmentation/annotations/image039-roi2.jpg (deflated 6%)\n",
      "  adding: segmentation/annotations/image034-roi1.jpg (deflated 13%)\n",
      "  adding: segmentation/annotations/image024-roi5.jpg (deflated 5%)\n",
      "  adding: segmentation/annotations/image023-roi4.jpg (deflated 5%)\n",
      "  adding: segmentation/annotations/image037-roi4.jpg (deflated 10%)\n",
      "  adding: segmentation/annotations/image038-roi4.jpg (deflated 8%)\n",
      "  adding: segmentation/annotations/image019-roi4.jpg (deflated 5%)\n",
      "  adding: segmentation/annotations/image003-2-roi2.jpg (deflated 7%)\n",
      "  adding: segmentation/annotations/image008-roi1.jpg (deflated 10%)\n",
      "  adding: segmentation/annotations/image058-roi8.jpg (deflated 9%)\n",
      "  adding: segmentation/annotations/image050-roi1.jpg (deflated 10%)\n",
      "  adding: segmentation/annotations/image019-roi2.jpg (deflated 8%)\n",
      "  adding: segmentation/annotations/image003-2-roi3.jpg (deflated 8%)\n",
      "  adding: segmentation/annotations/image005-roi2.jpg (deflated 12%)\n",
      "  adding: segmentation/annotations/image037-roi5.jpg (deflated 11%)\n",
      "  adding: segmentation/annotations/image061-roi5.jpg (deflated 11%)\n",
      "  adding: segmentation/annotations/image043-roi2.jpg (deflated 6%)\n",
      "  adding: segmentation/annotations/image032-roi4.jpg (deflated 6%)\n",
      "  adding: segmentation/annotations/image058-roi6.jpg (deflated 9%)\n",
      "  adding: segmentation/annotations/image024-roi2.jpg (deflated 6%)\n",
      "  adding: segmentation/annotations/image008-roi3.jpg (deflated 9%)\n",
      "  adding: segmentation/annotations/image038-roi1.jpg (deflated 11%)\n",
      "  adding: segmentation/annotations/image037-roi2.jpg (deflated 8%)\n",
      "  adding: segmentation/annotations/image004-roi3.jpg (deflated 8%)\n",
      "  adding: segmentation/annotations/image050-roi2.jpg (deflated 6%)\n",
      "  adding: segmentation/annotations/image061-roi4.jpg (deflated 9%)\n",
      "  adding: segmentation/annotations/image004-roi4.jpg (deflated 8%)\n",
      "  adding: segmentation/images/ (stored 0%)\n",
      "  adding: segmentation/images/image005-roi4.jpg (deflated 6%)\n",
      "  adding: segmentation/images/image021-roi4.jpg (deflated 6%)\n",
      "  adding: segmentation/images/image021-roi5.jpg (deflated 7%)\n",
      "  adding: segmentation/images/image006-2-roi3.jpg (deflated 6%)\n",
      "  adding: segmentation/images/image058-roi4.jpg (deflated 6%)\n",
      "  adding: segmentation/images/image005-2-roi3.jpg (deflated 6%)\n",
      "  adding: segmentation/images/image006-roi5.jpg (deflated 6%)\n",
      "  adding: segmentation/images/image058-roi5.jpg (deflated 6%)\n",
      "  adding: segmentation/images/image032-roi1.jpg (deflated 5%)\n",
      "  adding: segmentation/images/image024-roi4.jpg (deflated 6%)\n",
      "  adding: segmentation/images/image058-roi7.jpg (deflated 6%)\n",
      "  adding: segmentation/images/image005-roi3.jpg (deflated 7%)\n",
      "  adding: segmentation/images/image023-roi3.jpg (deflated 6%)\n",
      "  adding: segmentation/images/image062-roi2.jpg (deflated 5%)\n",
      "  adding: segmentation/images/image020-roi3.jpg (deflated 6%)\n",
      "  adding: segmentation/images/image004-roi1.jpg (deflated 5%)\n",
      "  adding: segmentation/images/image022-roi1.jpg (deflated 6%)\n",
      "  adding: segmentation/images/image020-roi1.jpg (deflated 6%)\n",
      "  adding: segmentation/images/image018-roi2.jpg (deflated 8%)\n",
      "  adding: segmentation/images/image019-roi5.jpg (deflated 7%)\n",
      "  adding: segmentation/images/image039-roi3.jpg (deflated 5%)\n",
      "  adding: segmentation/images/image020-roi5.jpg (deflated 6%)\n",
      "  adding: segmentation/images/image033-roi2.jpg (deflated 6%)\n",
      "  adding: segmentation/images/image039-roi1.jpg (deflated 5%)\n",
      "  adding: segmentation/images/image006-roi1.jpg (deflated 6%)\n",
      "  adding: segmentation/images/image021-roi1.jpg (deflated 6%)\n",
      "  adding: segmentation/images/image029-roi4.jpg (deflated 6%)\n",
      "  adding: segmentation/images/image021-roi2.jpg (deflated 7%)\n",
      "  adding: segmentation/images/image058-roi2.jpg (deflated 5%)\n",
      "  adding: segmentation/images/image017-roi3.jpg (deflated 6%)\n",
      "  adding: segmentation/images/image029-roi2.jpg (deflated 5%)\n",
      "  adding: segmentation/images/image005-2-roi2.jpg (deflated 5%)\n",
      "  adding: segmentation/images/image061-roi3.jpg (deflated 5%)\n",
      "  adding: segmentation/images/image017-roi2.jpg (deflated 7%)\n",
      "  adding: segmentation/images/image019-roi3.jpg (deflated 6%)\n",
      "  adding: segmentation/images/image006-roi3.jpg (deflated 6%)\n",
      "  adding: segmentation/images/image018-roi3.jpg (deflated 7%)\n",
      "  adding: segmentation/images/image021-roi3.jpg (deflated 6%)\n",
      "  adding: segmentation/images/image018-roi4.jpg (deflated 7%)\n",
      "  adding: segmentation/images/image006-roi2.jpg (deflated 6%)\n",
      "  adding: segmentation/images/image034-roi2.jpg (deflated 5%)\n",
      "  adding: segmentation/images/image019-roi6.jpg (deflated 8%)\n",
      "  adding: segmentation/images/image008-roi4.jpg (deflated 6%)\n",
      "  adding: segmentation/images/image004-roi2.jpg (deflated 5%)\n",
      "  adding: segmentation/images/image043-roi1.jpg (deflated 5%)\n"
     ]
    },
    {
     "name": "stdout",
     "output_type": "stream",
     "text": [
      "  adding: segmentation/images/image005-2-roi1.jpg (deflated 5%)\n",
      "  adding: segmentation/images/image004-roi5.jpg (deflated 6%)\n",
      "  adding: segmentation/images/image024-roi1.jpg (deflated 6%)\n",
      "  adding: segmentation/images/image021-roi6.jpg (deflated 6%)\n",
      "  adding: segmentation/images/image018-roi6.jpg (deflated 7%)\n",
      "  adding: segmentation/images/image033-roi1.jpg (deflated 6%)\n",
      "  adding: segmentation/images/image037-roi6.jpg (deflated 6%)\n",
      "  adding: segmentation/images/image029-roi3.jpg (deflated 5%)\n",
      "  adding: segmentation/images/image006-2-roi4.jpg (deflated 6%)\n",
      "  adding: segmentation/images/image024-roi6.jpg (deflated 6%)\n",
      "  adding: segmentation/images/image029-roi1.jpg (deflated 5%)\n",
      "  adding: segmentation/images/image061-roi1.jpg (deflated 5%)\n",
      "  adding: segmentation/images/image038-roi5.jpg (deflated 6%)\n",
      "  adding: segmentation/images/image017-roi1.jpg (deflated 6%)\n",
      "  adding: segmentation/images/image032-roi3.jpg (deflated 6%)\n",
      "  adding: segmentation/images/image037-roi3.jpg (deflated 5%)\n",
      "  adding: segmentation/images/image038-roi2.jpg (deflated 5%)\n",
      "  adding: segmentation/images/image018-roi5.jpg (deflated 7%)\n",
      "  adding: segmentation/images/image050-roi3.jpg (deflated 5%)\n",
      "  adding: segmentation/images/image058-roi1.jpg (deflated 6%)\n",
      "  adding: segmentation/images/image006-2-roi1.jpg (deflated 6%)\n",
      "  adding: segmentation/images/image006-2-roi2.jpg (deflated 5%)\n",
      "  adding: segmentation/images/image062-roi1.jpg (deflated 5%)\n",
      "  adding: segmentation/images/image020-roi2.jpg (deflated 6%)\n",
      "  adding: segmentation/images/image018-roi7.jpg (deflated 8%)\n",
      "  adding: segmentation/images/image018-roi8.jpg (deflated 7%)\n",
      "  adding: segmentation/images/image061-roi2.jpg (deflated 5%)\n",
      "  adding: segmentation/images/image003-2-roi4.jpg (deflated 6%)\n",
      "  adding: segmentation/images/image050-roi5.jpg (deflated 5%)\n",
      "  adding: segmentation/images/image024-roi3.jpg (deflated 5%)\n",
      "  adding: segmentation/images/image023-roi2.jpg (deflated 7%)\n",
      "  adding: segmentation/images/image043-roi3.jpg (deflated 4%)\n",
      "  adding: segmentation/images/image058-roi3.jpg (deflated 6%)\n",
      "  adding: segmentation/images/image037-roi7.jpg (deflated 6%)\n",
      "  adding: segmentation/images/image008-roi2.jpg (deflated 7%)\n",
      "  adding: segmentation/images/image032-roi2.jpg (deflated 5%)\n",
      "  adding: segmentation/images/image005-roi1.jpg (deflated 7%)\n",
      "  adding: segmentation/images/image038-roi6.jpg (deflated 6%)\n",
      "  adding: segmentation/images/image003-2-roi5.jpg (deflated 5%)\n",
      "  adding: segmentation/images/image023-roi1.jpg (deflated 7%)\n",
      "  adding: segmentation/images/image020-roi4.jpg (deflated 6%)\n",
      "  adding: segmentation/images/image006-roi4.jpg (deflated 6%)\n",
      "  adding: segmentation/images/image003-2-roi1.jpg (deflated 6%)\n",
      "  adding: segmentation/images/image005-2-roi4.jpg (deflated 5%)\n",
      "  adding: segmentation/images/image043-roi4.jpg (deflated 4%)\n",
      "  adding: segmentation/images/image050-roi4.jpg (deflated 5%)\n",
      "  adding: segmentation/images/image019-roi1.jpg (deflated 6%)\n",
      "  adding: segmentation/images/image038-roi3.jpg (deflated 5%)\n",
      "  adding: segmentation/images/image039-roi2.jpg (deflated 5%)\n",
      "  adding: segmentation/images/image034-roi1.jpg (deflated 5%)\n",
      "  adding: segmentation/images/image024-roi5.jpg (deflated 6%)\n",
      "  adding: segmentation/images/image023-roi4.jpg (deflated 5%)\n",
      "  adding: segmentation/images/image037-roi4.jpg (deflated 5%)\n",
      "  adding: segmentation/images/image038-roi4.jpg (deflated 5%)\n",
      "  adding: segmentation/images/image019-roi4.jpg (deflated 6%)\n",
      "  adding: segmentation/images/image003-2-roi2.jpg (deflated 6%)\n",
      "  adding: segmentation/images/image008-roi1.jpg (deflated 7%)\n",
      "  adding: segmentation/images/image058-roi8.jpg (deflated 6%)\n",
      "  adding: segmentation/images/image050-roi1.jpg (deflated 6%)\n",
      "  adding: segmentation/images/image019-roi2.jpg (deflated 7%)\n",
      "  adding: segmentation/images/image003-2-roi3.jpg (deflated 6%)\n",
      "  adding: segmentation/images/image005-roi2.jpg (deflated 7%)\n",
      "  adding: segmentation/images/image037-roi5.jpg (deflated 6%)\n",
      "  adding: segmentation/images/image061-roi5.jpg (deflated 5%)\n",
      "  adding: segmentation/images/image043-roi2.jpg (deflated 4%)\n",
      "  adding: segmentation/images/image032-roi4.jpg (deflated 6%)\n",
      "  adding: segmentation/images/image058-roi6.jpg (deflated 6%)\n",
      "  adding: segmentation/images/image024-roi2.jpg (deflated 5%)\n",
      "  adding: segmentation/images/image008-roi3.jpg (deflated 7%)\n",
      "  adding: segmentation/images/image038-roi1.jpg (deflated 0%)\n",
      "  adding: segmentation/images/image037-roi2.jpg (deflated 5%)\n",
      "  adding: segmentation/images/image004-roi3.jpg (deflated 5%)\n",
      "  adding: segmentation/images/image050-roi2.jpg (deflated 5%)\n",
      "  adding: segmentation/images/image061-roi4.jpg (deflated 6%)\n",
      "  adding: segmentation/images/image004-roi4.jpg (deflated 5%)\n"
     ]
    }
   ],
   "source": [
    "!zip -r segmentationV2.zip segmentation/"
   ]
  },
  {
   "cell_type": "code",
   "execution_count": 69,
   "id": "7171c8db",
   "metadata": {},
   "outputs": [
    {
     "name": "stdout",
     "output_type": "stream",
     "text": [
      " \u001b[0m\u001b[01;36mdataset\u001b[0m@                          'Segmentation models - LinkNet.ipynb'\r\n",
      " \u001b[01;35mdownload.png\u001b[0m                      'Segmentation models - PSPNet.ipynb'\r\n",
      " \u001b[01;34mmmsegmentation\u001b[0m/                   'Segmentation models - Unet.ipynb'\r\n",
      " MMSegmentation_Tutorial.ipynb      \u001b[01;31msegmentationV2.zip\u001b[0m\r\n",
      " MMSegmentation_Tutorial.py         \u001b[01;31msegmentation.zip\u001b[0m\r\n",
      " README.md                          Untitled.ipynb\r\n",
      " \u001b[01;34msegmentation\u001b[0m/                      \u001b[01;34mwork_dirs\u001b[0m/\r\n",
      "'Segmentation models - FPN.ipynb'\r\n"
     ]
    }
   ],
   "source": [
    "%ls"
   ]
  },
  {
   "cell_type": "code",
   "execution_count": 70,
   "id": "a438377d",
   "metadata": {},
   "outputs": [
    {
     "data": {
      "text/plain": [
       "'/home/neto/projects/tcc'"
      ]
     },
     "execution_count": 70,
     "metadata": {},
     "output_type": "execute_result"
    }
   ],
   "source": [
    "%pwd"
   ]
  },
  {
   "cell_type": "code",
   "execution_count": null,
   "id": "f9db75b1",
   "metadata": {},
   "outputs": [],
   "source": []
  }
 ],
 "metadata": {
  "kernelspec": {
   "display_name": "Python 3 (ipykernel)",
   "language": "python",
   "name": "python3"
  },
  "language_info": {
   "codemirror_mode": {
    "name": "ipython",
    "version": 3
   },
   "file_extension": ".py",
   "mimetype": "text/x-python",
   "name": "python",
   "nbconvert_exporter": "python",
   "pygments_lexer": "ipython3",
   "version": "3.9.7"
  }
 },
 "nbformat": 4,
 "nbformat_minor": 5
}
